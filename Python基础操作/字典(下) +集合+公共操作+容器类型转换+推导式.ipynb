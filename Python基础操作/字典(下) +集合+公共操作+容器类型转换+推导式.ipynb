{
 "cells": [
  {
   "cell_type": "markdown",
   "metadata": {},
   "source": [
    "# 字典的遍历"
   ]
  },
  {
   "cell_type": "code",
   "execution_count": 16,
   "metadata": {},
   "outputs": [
    {
     "name": "stdout",
     "output_type": "stream",
     "text": [
      "name\n",
      "age\n",
      "gender\n",
      "\n",
      "Tom\n",
      "20\n",
      "Male\n",
      "\n",
      "('name', 'Tom')\n",
      "('age', 20)\n",
      "('gender', 'Male')\n",
      "\n",
      "name : Tom\n",
      "age : 20\n",
      "gender : Male\n",
      "\n",
      "name : Tom\n",
      "age : 20\n",
      "gender : Male\n"
     ]
    }
   ],
   "source": [
    "dict1 = {\"name\":\"Tom\", \"age\":20, \"gender\":\"Male\"}\n",
    "# 遍历key值\n",
    "for key in dict1.keys():\n",
    "    print(key)\n",
    "print()\n",
    "\n",
    "# 遍历value值\n",
    "for value in dict1.values():\n",
    "    print(value)\n",
    "print()\n",
    "\n",
    "# 遍历键值对\n",
    "for item in dict1.items():\n",
    "    print(item)\n",
    "print()\n",
    "\n",
    "#通过遍历key访问所有的key和value\n",
    "for key in dict1.keys():\n",
    "    print(f\"{key} : {dict1[key]}\")\n",
    "print()\n",
    "\n",
    "# 拆包item访问所有的key和value\n",
    "for key, value in dict1.items():\n",
    "    print(f\"{key} : {dict1[key]}\")"
   ]
  },
  {
   "cell_type": "markdown",
   "metadata": {},
   "source": [
    "## 直接使用for循环遍历字典得到的结果是字典的key值"
   ]
  },
  {
   "cell_type": "code",
   "execution_count": 7,
   "metadata": {},
   "outputs": [
    {
     "name": "stdout",
     "output_type": "stream",
     "text": [
      "name\n",
      "age\n",
      "gender\n"
     ]
    }
   ],
   "source": [
    "for item in dict1:\n",
    "    print(item)"
   ]
  },
  {
   "cell_type": "markdown",
   "metadata": {},
   "source": [
    "# 集合"
   ]
  },
  {
   "cell_type": "markdown",
   "metadata": {},
   "source": [
    "## 创建集合"
   ]
  },
  {
   "cell_type": "code",
   "execution_count": 20,
   "metadata": {},
   "outputs": [
    {
     "name": "stdout",
     "output_type": "stream",
     "text": [
      "<class 'set'>\n",
      "set()\n",
      "<class 'tuple'>\n",
      "<class 'set'>\n",
      "{10, 20, 30}\n"
     ]
    }
   ],
   "source": [
    "# 空集合\n",
    "s1 = set()\n",
    "print(type(s1))\n",
    "print(s1)\n",
    "\n",
    "# 若不使用set()，直接使用(),则将生成一个元组对象\n",
    "s3 = ()\n",
    "print(type(s3))\n",
    "\n",
    "# 非空集合\n",
    "s2 = {10, 20, 30}\n",
    "print(type(s2))\n",
    "print(s2)"
   ]
  },
  {
   "cell_type": "markdown",
   "metadata": {},
   "source": [
    "## 集合内元素没有顺序，且集合不支持下标"
   ]
  },
  {
   "cell_type": "code",
   "execution_count": 19,
   "metadata": {},
   "outputs": [
    {
     "ename": "TypeError",
     "evalue": "'set' object is not subscriptable",
     "output_type": "error",
     "traceback": [
      "\u001b[1;31m---------------------------------------------------------------------------\u001b[0m",
      "\u001b[1;31mTypeError\u001b[0m                                 Traceback (most recent call last)",
      "\u001b[1;32m<ipython-input-19-a302d440bd15>\u001b[0m in \u001b[0;36m<module>\u001b[1;34m\u001b[0m\n\u001b[1;32m----> 1\u001b[1;33m \u001b[0mprint\u001b[0m\u001b[1;33m(\u001b[0m\u001b[0ms2\u001b[0m\u001b[1;33m[\u001b[0m\u001b[1;36m2\u001b[0m\u001b[1;33m]\u001b[0m\u001b[1;33m)\u001b[0m\u001b[1;33m\u001b[0m\u001b[1;33m\u001b[0m\u001b[0m\n\u001b[0m",
      "\u001b[1;31mTypeError\u001b[0m: 'set' object is not subscriptable"
     ]
    }
   ],
   "source": [
    "print(s2[2])"
   ]
  },
  {
   "cell_type": "markdown",
   "metadata": {},
   "source": [
    "## 集合不能嵌套、不能出现列表、不能出现字典、可以出现元组、集合当中不能出现可变类型"
   ]
  },
  {
   "cell_type": "markdown",
   "metadata": {},
   "source": [
    "## 集合是可变类型，常见操作"
   ]
  },
  {
   "cell_type": "markdown",
   "metadata": {},
   "source": [
    "### 增加数据"
   ]
  },
  {
   "cell_type": "markdown",
   "metadata": {},
   "source": [
    "### add()函数： 增加一个元素"
   ]
  },
  {
   "cell_type": "markdown",
   "metadata": {},
   "source": [
    "### 使用add()函数时，若尝试增加一个已存在的数据，则不进行任何操作"
   ]
  },
  {
   "cell_type": "code",
   "execution_count": 21,
   "metadata": {},
   "outputs": [
    {
     "name": "stdout",
     "output_type": "stream",
     "text": [
      "{100, 10, 20}\n"
     ]
    }
   ],
   "source": [
    "s1 = {10, 20}\n",
    "s1.add(100)\n",
    "s1.add(10)\n",
    "print(s1)"
   ]
  },
  {
   "cell_type": "markdown",
   "metadata": {},
   "source": [
    "### 若add()传入的是序列，报错"
   ]
  },
  {
   "cell_type": "code",
   "execution_count": 24,
   "metadata": {},
   "outputs": [
    {
     "ename": "TypeError",
     "evalue": "unhashable type: 'list'",
     "output_type": "error",
     "traceback": [
      "\u001b[1;31m---------------------------------------------------------------------------\u001b[0m",
      "\u001b[1;31mTypeError\u001b[0m                                 Traceback (most recent call last)",
      "\u001b[1;32m<ipython-input-24-a39db3db860a>\u001b[0m in \u001b[0;36m<module>\u001b[1;34m\u001b[0m\n\u001b[0;32m      1\u001b[0m \u001b[0ms1\u001b[0m \u001b[1;33m=\u001b[0m \u001b[1;33m{\u001b[0m\u001b[1;36m10\u001b[0m\u001b[1;33m,\u001b[0m \u001b[1;36m20\u001b[0m\u001b[1;33m}\u001b[0m\u001b[1;33m\u001b[0m\u001b[1;33m\u001b[0m\u001b[0m\n\u001b[1;32m----> 2\u001b[1;33m \u001b[0ms1\u001b[0m\u001b[1;33m.\u001b[0m\u001b[0madd\u001b[0m\u001b[1;33m(\u001b[0m\u001b[1;33m[\u001b[0m\u001b[1;36m1\u001b[0m\u001b[1;33m,\u001b[0m\u001b[1;36m2\u001b[0m\u001b[1;33m,\u001b[0m\u001b[1;36m3\u001b[0m\u001b[1;33m,\u001b[0m\u001b[1;36m4\u001b[0m\u001b[1;33m]\u001b[0m\u001b[1;33m)\u001b[0m\u001b[1;33m\u001b[0m\u001b[1;33m\u001b[0m\u001b[0m\n\u001b[0m\u001b[0;32m      3\u001b[0m \u001b[0mprint\u001b[0m\u001b[1;33m(\u001b[0m\u001b[0ms1\u001b[0m\u001b[1;33m)\u001b[0m\u001b[1;33m\u001b[0m\u001b[1;33m\u001b[0m\u001b[0m\n",
      "\u001b[1;31mTypeError\u001b[0m: unhashable type: 'list'"
     ]
    }
   ],
   "source": [
    "s1 = {10, 20}\n",
    "s1.add([1,2,3,4])\n",
    "print(s1)"
   ]
  },
  {
   "cell_type": "markdown",
   "metadata": {},
   "source": [
    "### update()函数，追加一个序列"
   ]
  },
  {
   "cell_type": "code",
   "execution_count": 22,
   "metadata": {},
   "outputs": [
    {
     "name": "stdout",
     "output_type": "stream",
     "text": [
      "{10, 11, 20, 23}\n"
     ]
    }
   ],
   "source": [
    "s1 = {10, 20}\n",
    "s1.update([11,23])\n",
    "print(s1)"
   ]
  },
  {
   "cell_type": "markdown",
   "metadata": {},
   "source": [
    "### update()函数若传入的是单一数据，报错"
   ]
  },
  {
   "cell_type": "code",
   "execution_count": 23,
   "metadata": {},
   "outputs": [
    {
     "ename": "TypeError",
     "evalue": "'int' object is not iterable",
     "output_type": "error",
     "traceback": [
      "\u001b[1;31m---------------------------------------------------------------------------\u001b[0m",
      "\u001b[1;31mTypeError\u001b[0m                                 Traceback (most recent call last)",
      "\u001b[1;32m<ipython-input-23-9764435f329d>\u001b[0m in \u001b[0;36m<module>\u001b[1;34m\u001b[0m\n\u001b[0;32m      1\u001b[0m \u001b[0ms1\u001b[0m \u001b[1;33m=\u001b[0m \u001b[1;33m{\u001b[0m\u001b[1;36m10\u001b[0m\u001b[1;33m,\u001b[0m \u001b[1;36m20\u001b[0m\u001b[1;33m}\u001b[0m\u001b[1;33m\u001b[0m\u001b[1;33m\u001b[0m\u001b[0m\n\u001b[1;32m----> 2\u001b[1;33m \u001b[0ms1\u001b[0m\u001b[1;33m.\u001b[0m\u001b[0mupdate\u001b[0m\u001b[1;33m(\u001b[0m\u001b[1;36m11\u001b[0m\u001b[1;33m)\u001b[0m\u001b[1;33m\u001b[0m\u001b[1;33m\u001b[0m\u001b[0m\n\u001b[0m\u001b[0;32m      3\u001b[0m \u001b[0mprint\u001b[0m\u001b[1;33m(\u001b[0m\u001b[0ms1\u001b[0m\u001b[1;33m)\u001b[0m\u001b[1;33m\u001b[0m\u001b[1;33m\u001b[0m\u001b[0m\n",
      "\u001b[1;31mTypeError\u001b[0m: 'int' object is not iterable"
     ]
    }
   ],
   "source": [
    "s1 = {10, 20}\n",
    "s1.update(11)\n",
    "print(s1)"
   ]
  },
  {
   "cell_type": "markdown",
   "metadata": {},
   "source": [
    "## 若将字典强转为集合时，将只在集合中保留key"
   ]
  },
  {
   "cell_type": "code",
   "execution_count": 25,
   "metadata": {},
   "outputs": [
    {
     "name": "stdout",
     "output_type": "stream",
     "text": [
      "{'b', 'n'}\n"
     ]
    }
   ],
   "source": [
    "di = {\"n\":1, \"b\":2}\n",
    "s = set(di)\n",
    "print(s)"
   ]
  },
  {
   "cell_type": "markdown",
   "metadata": {},
   "source": [
    "## 集合删除数据"
   ]
  },
  {
   "cell_type": "markdown",
   "metadata": {},
   "source": [
    "### discard(), remove(), pop()"
   ]
  },
  {
   "cell_type": "markdown",
   "metadata": {},
   "source": [
    "### discard() 和 remove() 都是删除指定的元素，区别在于discard()在删除不存在的数据时不报错，remove()会报错"
   ]
  },
  {
   "cell_type": "code",
   "execution_count": 27,
   "metadata": {},
   "outputs": [
    {
     "name": "stdout",
     "output_type": "stream",
     "text": [
      "{2, 3, 4}\n"
     ]
    }
   ],
   "source": [
    "s1 = {1, 2, 3, 4}\n",
    "s1.discard(1)\n",
    "print(s1)\n",
    "s1.discard(0)"
   ]
  },
  {
   "cell_type": "code",
   "execution_count": 28,
   "metadata": {},
   "outputs": [
    {
     "name": "stdout",
     "output_type": "stream",
     "text": [
      "{2, 3, 4}\n"
     ]
    },
    {
     "ename": "KeyError",
     "evalue": "0",
     "output_type": "error",
     "traceback": [
      "\u001b[1;31m---------------------------------------------------------------------------\u001b[0m",
      "\u001b[1;31mKeyError\u001b[0m                                  Traceback (most recent call last)",
      "\u001b[1;32m<ipython-input-28-e0cbccc31b2e>\u001b[0m in \u001b[0;36m<module>\u001b[1;34m\u001b[0m\n\u001b[0;32m      2\u001b[0m \u001b[0ms1\u001b[0m\u001b[1;33m.\u001b[0m\u001b[0mremove\u001b[0m\u001b[1;33m(\u001b[0m\u001b[1;36m1\u001b[0m\u001b[1;33m)\u001b[0m\u001b[1;33m\u001b[0m\u001b[1;33m\u001b[0m\u001b[0m\n\u001b[0;32m      3\u001b[0m \u001b[0mprint\u001b[0m\u001b[1;33m(\u001b[0m\u001b[0ms1\u001b[0m\u001b[1;33m)\u001b[0m\u001b[1;33m\u001b[0m\u001b[1;33m\u001b[0m\u001b[0m\n\u001b[1;32m----> 4\u001b[1;33m \u001b[0ms1\u001b[0m\u001b[1;33m.\u001b[0m\u001b[0mremove\u001b[0m\u001b[1;33m(\u001b[0m\u001b[1;36m0\u001b[0m\u001b[1;33m)\u001b[0m\u001b[1;33m\u001b[0m\u001b[1;33m\u001b[0m\u001b[0m\n\u001b[0m",
      "\u001b[1;31mKeyError\u001b[0m: 0"
     ]
    }
   ],
   "source": [
    "s1 = {1, 2, 3, 4}\n",
    "s1.remove(1)\n",
    "print(s1)\n",
    "s1.remove(0)"
   ]
  },
  {
   "cell_type": "markdown",
   "metadata": {},
   "source": [
    "### pop()函数 不接收任何参数，将伪随机删除一个元素，并返回这个被删除的元素"
   ]
  },
  {
   "cell_type": "code",
   "execution_count": 34,
   "metadata": {},
   "outputs": [
    {
     "name": "stdout",
     "output_type": "stream",
     "text": [
      "{2, 3, 4}\n",
      "1\n"
     ]
    }
   ],
   "source": [
    "s1 = {1, 2, 3, 4}\n",
    "t = s1.pop()\n",
    "print(s1)\n",
    "print(t)"
   ]
  },
  {
   "cell_type": "markdown",
   "metadata": {},
   "source": [
    "## 查找集合中的数据"
   ]
  },
  {
   "cell_type": "markdown",
   "metadata": {},
   "source": [
    "## in 和 not in"
   ]
  },
  {
   "cell_type": "code",
   "execution_count": 35,
   "metadata": {},
   "outputs": [
    {
     "name": "stdout",
     "output_type": "stream",
     "text": [
      "True\n",
      "False\n",
      "True\n",
      "False\n"
     ]
    }
   ],
   "source": [
    "s1 = {1, 2, 3, 4}\n",
    "s1.remove(1)\n",
    "print(3 in s1)\n",
    "print(1 in s1)\n",
    "print(5 not in s1)\n",
    "print(4 not in s1)"
   ]
  },
  {
   "cell_type": "code",
   "execution_count": 39,
   "metadata": {},
   "outputs": [
    {
     "name": "stdout",
     "output_type": "stream",
     "text": [
      "Hello 1\n"
     ]
    }
   ],
   "source": [
    "a_list = [1, 1, 2, 2, 3, 3, 5, 7, 8]\n",
    "a_set = set(a_list)\n",
    "if 1 in a_set:\n",
    "    print(\"Hello 1\")"
   ]
  },
  {
   "cell_type": "markdown",
   "metadata": {},
   "source": [
    "# 公共操作"
   ]
  },
  {
   "cell_type": "markdown",
   "metadata": {},
   "source": [
    "## 运算符、公共方法、容器类型转换"
   ]
  },
  {
   "cell_type": "markdown",
   "metadata": {},
   "source": [
    "## 运算符 +、*、in、not in"
   ]
  },
  {
   "cell_type": "markdown",
   "metadata": {},
   "source": [
    "## + 合并 支持 字符串、列表、元组"
   ]
  },
  {
   "cell_type": "code",
   "execution_count": 40,
   "metadata": {},
   "outputs": [
    {
     "name": "stdout",
     "output_type": "stream",
     "text": [
      "aabb\n",
      "[1, 2, 3, 3, 2, 1]\n",
      "(1, 2, 3, 4, 5, 6)\n"
     ]
    }
   ],
   "source": [
    "str1 = \"aa\"\n",
    "str2 = \"bb\"\n",
    "print(str1 + str2)\n",
    "\n",
    "l1 = [1, 2, 3]\n",
    "l2 = [3, 2, 1]\n",
    "print(l1 + l2)\n",
    "\n",
    "t1 = (1, 2, 3)\n",
    "t2 = (4, 5, 6)\n",
    "print(t1 + t2)"
   ]
  },
  {
   "cell_type": "markdown",
   "metadata": {},
   "source": [
    "## * 复制 支持 字符串、列表、元组"
   ]
  },
  {
   "cell_type": "code",
   "execution_count": 41,
   "metadata": {},
   "outputs": [
    {
     "name": "stdout",
     "output_type": "stream",
     "text": [
      "aaaa\n",
      "[1, 2, 3, 1, 2, 3]\n",
      "(1, 2, 3, 1, 2, 3)\n"
     ]
    }
   ],
   "source": [
    "str1 = \"aa\"\n",
    "print(str1 * 2)\n",
    "\n",
    "l1 = [1, 2, 3]\n",
    "print(l1 * 2)\n",
    "\n",
    "t1 = (1, 2, 3)\n",
    "print(t1 * 2)"
   ]
  },
  {
   "cell_type": "markdown",
   "metadata": {},
   "source": [
    "## in 元素是否存在 支持 字符串、列表、元组、字典"
   ]
  },
  {
   "cell_type": "markdown",
   "metadata": {},
   "source": [
    "## not in 元素是否不存在 支持 字符串、列表、元组、字典"
   ]
  },
  {
   "cell_type": "markdown",
   "metadata": {},
   "source": [
    "#### 注意！！！\n",
    "#### 在对字典直接使用 in 或 not in判断元素是否存在时判断的是元素作为key是否存在于字典中\n"
   ]
  },
  {
   "cell_type": "code",
   "execution_count": 44,
   "metadata": {},
   "outputs": [
    {
     "name": "stdout",
     "output_type": "stream",
     "text": [
      "True\n",
      "False\n",
      "True\n",
      "False\n",
      "True\n",
      "False\n",
      "False\n",
      "True\n"
     ]
    }
   ],
   "source": [
    "str1 = \"aa\"\n",
    "print(\"a\" in str1)\n",
    "print(\"a\" not in str1)\n",
    "\n",
    "l1 = [1, 2, 3]\n",
    "print(1 in l1)\n",
    "print(1 not in l1)\n",
    "\n",
    "t1 = (1, 2, 3)\n",
    "print(1 in t1)\n",
    "print(1 not in t1)\n",
    "\n",
    "\"\"\"\n",
    "注意在对字典直接使用 in 或 not in判断元素是否存在时\n",
    "判断的是元素作为key是否存在于字典中\n",
    "\"\"\"\n",
    "d1 = {\"a\":1, \"b\":2}\n",
    "print(1 in d1) # False\n",
    "print(\"a\" in d1) # True"
   ]
  },
  {
   "cell_type": "markdown",
   "metadata": {},
   "source": [
    "# 公共方法"
   ]
  },
  {
   "cell_type": "markdown",
   "metadata": {},
   "source": [
    "## len()、del()、max()、min()、 range(strat, end, step)、 enumerate()"
   ]
  },
  {
   "cell_type": "markdown",
   "metadata": {},
   "source": [
    "## len()"
   ]
  },
  {
   "cell_type": "code",
   "execution_count": 45,
   "metadata": {},
   "outputs": [
    {
     "name": "stdout",
     "output_type": "stream",
     "text": [
      "7\n",
      "5\n",
      "5\n",
      "5\n",
      "2\n"
     ]
    }
   ],
   "source": [
    "str1 = \"abcdefg\"\n",
    "l1 = [10, 20, 30, 40, 50]\n",
    "t1 = (10, 20, 30, 40, 50)\n",
    "s1 = {10, 20, 30, 40, 50}\n",
    "d1 = {\"name\":\"Tom\", \"age\":18}\n",
    "\n",
    "print(len(str1))\n",
    "print(len(l1))\n",
    "print(len(t1))\n",
    "print(len(s1))\n",
    "# 对于字典，len(dict) 返回的是字典中键值对的数量\n",
    "print(len(d1))"
   ]
  },
  {
   "cell_type": "markdown",
   "metadata": {},
   "source": [
    "## del() / del"
   ]
  },
  {
   "cell_type": "code",
   "execution_count": 56,
   "metadata": {},
   "outputs": [
    {
     "name": "stdout",
     "output_type": "stream",
     "text": [
      "[20, 30, 40, 50]\n",
      "{'age': 18}\n"
     ]
    }
   ],
   "source": [
    "str1 = \"abcdefg\"\n",
    "l1 = [10, 20, 30, 40, 50]\n",
    "t1 = (10, 20, 30, 40, 50)\n",
    "s1 = {10, 20, 30, 40, 50}\n",
    "d1 = {\"name\":\"Tom\", \"age\":18}\n",
    "\n",
    "# 注意！！！字符串是不可变类型，不能通过del（字符串[下标]）来删除某个元素\n",
    "del str1\n",
    "#print(str1)\n",
    "# del(str1)\n",
    "# print(str1)\n",
    "\n",
    "del l1[0]\n",
    "print(l1)\n",
    "\n",
    "# 注意！！！ 元组也是不可变类型\n",
    "del t1\n",
    "#print(t1)\n",
    "\n",
    "# 集合也不能通过del （set[下标]）删除元素\n",
    "del s1\n",
    "#print(s1)\n",
    "\n",
    "del d1[\"name\"]\n",
    "print(d1)"
   ]
  },
  {
   "cell_type": "markdown",
   "metadata": {},
   "source": [
    "## max() 、min()"
   ]
  },
  {
   "cell_type": "markdown",
   "metadata": {},
   "source": [
    "## 字符比较大小时，使用的是ASCII码"
   ]
  },
  {
   "cell_type": "code",
   "execution_count": 52,
   "metadata": {},
   "outputs": [
    {
     "name": "stdout",
     "output_type": "stream",
     "text": [
      "g\n",
      "a\n",
      "50\n",
      "10\n",
      "50\n",
      "10\n",
      "50\n",
      "10\n",
      "zzzzzz\n",
      "a\n"
     ]
    }
   ],
   "source": [
    "str1 = \"abcdefg\"\n",
    "l1 = [10, 20, 30, 40, 50]\n",
    "t1 = (10, 20, 30, 40, 50)\n",
    "s1 = {10, 20, 30, 40, 50}\n",
    "d1 = {\"name\":\"Tom\", \"age\":18 ,\"zzzzzz\":1, \"a\":20000}\n",
    "\n",
    "print(max(str1))\n",
    "print(min(str1))\n",
    "\n",
    "print(max(l1))\n",
    "print(min(l1))\n",
    "\n",
    "print(max(t1))\n",
    "print(min(t1))\n",
    "\n",
    "print(max(s1))\n",
    "print(min(s1))\n",
    "\n",
    "print(max(d1))\n",
    "print(min(d1))"
   ]
  },
  {
   "cell_type": "markdown",
   "metadata": {},
   "source": [
    "## range(start, end, step)    ->    生成序列"
   ]
  },
  {
   "cell_type": "markdown",
   "metadata": {},
   "source": [
    "## start默认是0，end必须指定，step默认是1"
   ]
  },
  {
   "cell_type": "code",
   "execution_count": 70,
   "metadata": {},
   "outputs": [
    {
     "name": "stdout",
     "output_type": "stream",
     "text": [
      "1 2 3 4 5 6 7 8 9 \n",
      "1 3 5 7 9 \n",
      "0 1 2 3 4 5 6 7 8 9 \n",
      "2 4 6 8 10 "
     ]
    }
   ],
   "source": [
    "for i in range(1, 10, 1):\n",
    "    print(i, end = ' ')\n",
    "    \n",
    "print()\n",
    "    \n",
    "for i in range(1, 10, 2):\n",
    "    print(i, end = ' ')\n",
    "    \n",
    "print()\n",
    "\n",
    "for i in range(10):\n",
    "    print(i, end = ' ')\n",
    "    \n",
    "print()\n",
    "\n",
    "for i in range(2, 11, 2):\n",
    "    print(i, end =\" \")"
   ]
  },
  {
   "cell_type": "markdown",
   "metadata": {},
   "source": [
    "# enumerate（）枚举"
   ]
  },
  {
   "cell_type": "markdown",
   "metadata": {},
   "source": [
    "## 将一个可遍历对象组合为一个索引系列，同时列出数据和数据的下标"
   ]
  },
  {
   "cell_type": "code",
   "execution_count": 76,
   "metadata": {},
   "outputs": [
    {
     "name": "stdout",
     "output_type": "stream",
     "text": [
      "(0, 10)\n",
      "(1, 20)\n",
      "(2, 30)\n",
      "(3, 40)\n",
      "(4, 50)\n",
      "\n",
      "(1, 10)\n",
      "(2, 20)\n",
      "(3, 30)\n",
      "(4, 40)\n",
      "(5, 50)\n",
      "\n",
      "0 10\n",
      "1 20\n",
      "2 30\n",
      "3 40\n",
      "4 50\n"
     ]
    }
   ],
   "source": [
    "l1 = [10, 20, 30, 40, 50]\n",
    "\n",
    "# enumerate(obj, start = 0) start为序号开始的值\n",
    "\n",
    "for i in enumerate(l1):\n",
    "    print(i)\n",
    "    \n",
    "print()\n",
    "\n",
    "for i in enumerate(l1, 1):\n",
    "    print(i)\n",
    "    \n",
    "print()\n",
    "\n",
    "for index, value in enumerate(l1):\n",
    "    print(f\"{index} {value}\")"
   ]
  },
  {
   "cell_type": "code",
   "execution_count": 79,
   "metadata": {},
   "outputs": [
    {
     "name": "stdout",
     "output_type": "stream",
     "text": [
      "0 : 张三\n",
      "1 : 李四\n",
      "2 : 王五\n"
     ]
    }
   ],
   "source": [
    "a_list = ['张三', '李四','王五']\n",
    "\n",
    "for index, name in enumerate(a_list):\n",
    "    print(f\"{index} : {name}\")"
   ]
  },
  {
   "cell_type": "markdown",
   "metadata": {},
   "source": [
    "# 容器类型转换"
   ]
  },
  {
   "cell_type": "code",
   "execution_count": 80,
   "metadata": {},
   "outputs": [
    {
     "name": "stdout",
     "output_type": "stream",
     "text": [
      "(10, 20, 30, 40, 50)\n",
      "(100, 200, 300, 400, 500)\n",
      "[100, 200, 300, 400, 500]\n",
      "['a', 'b', 'c', 'd', 'e']\n",
      "{40, 10, 50, 20, 30}\n",
      "{'b', 'a', 'e', 'd', 'c'}\n"
     ]
    }
   ],
   "source": [
    "l1 = [10, 20, 30, 40, 50]\n",
    "s1 = {100, 200, 300, 400, 500}\n",
    "t1 = ('a', 'b', 'c', 'd', 'e')\n",
    "\n",
    "print(tuple(l1))\n",
    "print(tuple(s1))\n",
    "\n",
    "print(list(s1))\n",
    "print(list(t1))\n",
    "\n",
    "print(set(l1))\n",
    "print(set(t1))"
   ]
  },
  {
   "cell_type": "markdown",
   "metadata": {},
   "source": [
    "## 字符串可以转为列表"
   ]
  },
  {
   "cell_type": "code",
   "execution_count": 84,
   "metadata": {},
   "outputs": [
    {
     "data": {
      "text/plain": [
       "['a', 'd', 'a', 'w', 'e', 'f', 'a', 'w', 'e', 'f', 'a', 's', 'd', 'f']"
      ]
     },
     "execution_count": 84,
     "metadata": {},
     "output_type": "execute_result"
    }
   ],
   "source": [
    "s = \"adawefawefasdf\"\n",
    "a = list(s)\n",
    "a"
   ]
  },
  {
   "cell_type": "code",
   "execution_count": 91,
   "metadata": {},
   "outputs": [
    {
     "name": "stdout",
     "output_type": "stream",
     "text": [
      "['a', 'd', 'a', 'w', 'e', 'f', 'a', 'w', 'e', 'f', 'a', 's', 'd', 'f']\n",
      "adawefawefasdf\n"
     ]
    }
   ],
   "source": [
    "s = str(a)\n",
    "print(s)\n",
    "\n",
    "s = \"\".join(a)\n",
    "print(s)"
   ]
  },
  {
   "cell_type": "markdown",
   "metadata": {},
   "source": [
    "# 推导式"
   ]
  },
  {
   "cell_type": "markdown",
   "metadata": {},
   "source": [
    "## 用一个表达式创建/控制一个有规律的列表"
   ]
  },
  {
   "cell_type": "code",
   "execution_count": 98,
   "metadata": {},
   "outputs": [
    {
     "name": "stdout",
     "output_type": "stream",
     "text": [
      "[0, 1, 2, 3, 4, 5, 6, 7, 8, 9]\n",
      "[0, 1, 2, 3, 4, 5, 6, 7, 8, 9]\n",
      "[0, 1, 2, 3, 4, 5, 6, 7, 8, 9]\n"
     ]
    }
   ],
   "source": [
    "# while 循环\n",
    "l1 = []\n",
    "i = 0\n",
    "while i < 10:\n",
    "    l1.append(i)\n",
    "    i += 1\n",
    "print(l1)\n",
    "\n",
    "# for循环\n",
    "l1 = []\n",
    "for i in range(10):\n",
    "    l1.append(i)\n",
    "print(l1)\n",
    "\n",
    "# 推导式\n",
    "l1 = [i for i in range(10)]\n",
    "print(l1)"
   ]
  },
  {
   "cell_type": "markdown",
   "metadata": {},
   "source": [
    "## 带条件判断的推导式"
   ]
  },
  {
   "cell_type": "code",
   "execution_count": 107,
   "metadata": {},
   "outputs": [
    {
     "name": "stdout",
     "output_type": "stream",
     "text": [
      "[0, 2, 4, 6, 8]\n",
      "[0, 2, 4, 6, 8]\n"
     ]
    }
   ],
   "source": [
    "# 不带判断的推导式\n",
    "l1 = [i for i in range(0, 10, 2)]\n",
    "print(l1)\n",
    "# 带判断的推导式\n",
    "l1 = [i for i in range(10) if i % 2 ==0]\n",
    "print(l1)"
   ]
  },
  {
   "cell_type": "code",
   "execution_count": 108,
   "metadata": {},
   "outputs": [
    {
     "data": {
      "text/plain": [
       "[1, 3, 5, 7, 9, 11, 13, 15, 17, 19]"
      ]
     },
     "execution_count": 108,
     "metadata": {},
     "output_type": "execute_result"
    }
   ],
   "source": [
    "l2 = [i for i in range(21) if i % 2 != 0]\n",
    "l2"
   ]
  },
  {
   "cell_type": "markdown",
   "metadata": {},
   "source": [
    "## 多个for循环实现列表推导式"
   ]
  },
  {
   "cell_type": "markdown",
   "metadata": {},
   "source": [
    "## 等同于多个for循环嵌套"
   ]
  },
  {
   "cell_type": "code",
   "execution_count": 112,
   "metadata": {},
   "outputs": [
    {
     "name": "stdout",
     "output_type": "stream",
     "text": [
      "[(1, 0), (1, 1), (1, 2), (2, 0), (2, 1), (2, 2)]\n",
      "[(1, 0), (1, 1), (1, 2), (2, 0), (2, 1), (2, 2)]\n"
     ]
    }
   ],
   "source": [
    "li1 = [(i, j) for i in range(1,3) for j in range(3)]\n",
    "print(li1)\n",
    "\n",
    "li1 = []\n",
    "for i in range(1,3):\n",
    "    for j in range(3):\n",
    "        li1.append((i, j))\n",
    "print(li1)"
   ]
  },
  {
   "cell_type": "code",
   "execution_count": 118,
   "metadata": {},
   "outputs": [
    {
     "name": "stdout",
     "output_type": "stream",
     "text": [
      "['张三看书', '李四睡觉', '王五打豆豆']\n",
      "[('张三', '看书'), ('李四', '睡觉'), ('王五', '打豆豆')]\n",
      "[('张三', '看书'), ('李四', '睡觉'), ('王五', '打豆豆')]\n"
     ]
    }
   ],
   "source": [
    "A = [\"张三\", \"李四\", \"王五\"]\n",
    "B = [\"看书\", \"睡觉\", \"打豆豆\"]\n",
    "\n",
    "C = [a+b for a,b in zip(A, B)]\n",
    "print(C)\n",
    "\n",
    "D = [(a,b) for a,b in zip(A, B)]\n",
    "print(D)\n",
    "\n",
    "E = [(name, action) for i, name in enumerate(A) for j, action in enumerate(B) if i == j]\n",
    "print(E)"
   ]
  },
  {
   "cell_type": "code",
   "execution_count": 60,
   "metadata": {},
   "outputs": [
    {
     "data": {
      "text/plain": [
       "[11, 22, 33, 44, 55]"
      ]
     },
     "execution_count": 60,
     "metadata": {},
     "output_type": "execute_result"
    }
   ],
   "source": [
    "l1 = [10, 20, 30, 40, 50]\n",
    "l2 = [1, 2, 3, 4, 5]\n",
    "\n",
    "l3 = [(a+b) for a,b in zip(l1, l2)]\n",
    "l3"
   ]
  },
  {
   "cell_type": "markdown",
   "metadata": {},
   "source": [
    "# 字典推导式"
   ]
  },
  {
   "cell_type": "code",
   "execution_count": 119,
   "metadata": {},
   "outputs": [
    {
     "data": {
      "text/plain": [
       "{'name': 'Tom', 'age': 20, 'gender': 'man'}"
      ]
     },
     "execution_count": 119,
     "metadata": {},
     "output_type": "execute_result"
    }
   ],
   "source": [
    "l1 = ['name', 'age', 'gender']\n",
    "l2 = ['Tom', 20, 'man']\n",
    "\n",
    "d1 = {key:value for key,value in zip(l1, l2)}\n",
    "print(d1)"
   ]
  },
  {
   "cell_type": "code",
   "execution_count": 120,
   "metadata": {},
   "outputs": [
    {
     "name": "stdout",
     "output_type": "stream",
     "text": [
      "{1: 1, 2: 4, 3: 9, 4: 16}\n"
     ]
    }
   ],
   "source": [
    "dic1 = {i:i**2 for i in range(1, 5)}\n",
    "print(dic1)"
   ]
  },
  {
   "cell_type": "markdown",
   "metadata": {},
   "source": [
    "## 当尝试使用两个列表组合成一个字典时，需要注意长度，若使用以下方法，需要使用长度短的列表作为遍历目标"
   ]
  },
  {
   "cell_type": "code",
   "execution_count": 125,
   "metadata": {},
   "outputs": [
    {
     "name": "stdout",
     "output_type": "stream",
     "text": [
      "{'pose1': '🐥', 'pose2': '🐤', 'pose3': '🐣'}\n"
     ]
    },
    {
     "ename": "IndexError",
     "evalue": "list index out of range",
     "output_type": "error",
     "traceback": [
      "\u001b[1;31m---------------------------------------------------------------------------\u001b[0m",
      "\u001b[1;31mIndexError\u001b[0m                                Traceback (most recent call last)",
      "\u001b[1;32m<ipython-input-125-bb7be8d0e3d8>\u001b[0m in \u001b[0;36m<module>\u001b[1;34m\u001b[0m\n\u001b[0;32m      8\u001b[0m \u001b[0ml2\u001b[0m \u001b[1;33m=\u001b[0m \u001b[1;33m[\u001b[0m\u001b[1;34m'🐥'\u001b[0m\u001b[1;33m,\u001b[0m \u001b[1;34m'🐤'\u001b[0m\u001b[1;33m,\u001b[0m \u001b[1;34m'🐣'\u001b[0m\u001b[1;33m,\u001b[0m \u001b[1;34m'🙄'\u001b[0m\u001b[1;33m]\u001b[0m\u001b[1;33m\u001b[0m\u001b[1;33m\u001b[0m\u001b[0m\n\u001b[0;32m      9\u001b[0m \u001b[1;33m\u001b[0m\u001b[0m\n\u001b[1;32m---> 10\u001b[1;33m \u001b[0md1\u001b[0m \u001b[1;33m=\u001b[0m \u001b[1;33m{\u001b[0m\u001b[0ml1\u001b[0m\u001b[1;33m[\u001b[0m\u001b[0mi\u001b[0m\u001b[1;33m]\u001b[0m\u001b[1;33m:\u001b[0m\u001b[0ml2\u001b[0m\u001b[1;33m[\u001b[0m\u001b[0mi\u001b[0m\u001b[1;33m]\u001b[0m \u001b[1;32mfor\u001b[0m \u001b[0mi\u001b[0m \u001b[1;32min\u001b[0m \u001b[0mrange\u001b[0m\u001b[1;33m(\u001b[0m\u001b[0mlen\u001b[0m\u001b[1;33m(\u001b[0m\u001b[0ml2\u001b[0m\u001b[1;33m)\u001b[0m\u001b[1;33m)\u001b[0m\u001b[1;33m}\u001b[0m\u001b[1;33m\u001b[0m\u001b[1;33m\u001b[0m\u001b[0m\n\u001b[0m\u001b[0;32m     11\u001b[0m \u001b[0mprint\u001b[0m\u001b[1;33m(\u001b[0m\u001b[0md1\u001b[0m\u001b[1;33m)\u001b[0m\u001b[1;33m\u001b[0m\u001b[1;33m\u001b[0m\u001b[0m\n",
      "\u001b[1;32m<ipython-input-125-bb7be8d0e3d8>\u001b[0m in \u001b[0;36m<dictcomp>\u001b[1;34m(.0)\u001b[0m\n\u001b[0;32m      8\u001b[0m \u001b[0ml2\u001b[0m \u001b[1;33m=\u001b[0m \u001b[1;33m[\u001b[0m\u001b[1;34m'🐥'\u001b[0m\u001b[1;33m,\u001b[0m \u001b[1;34m'🐤'\u001b[0m\u001b[1;33m,\u001b[0m \u001b[1;34m'🐣'\u001b[0m\u001b[1;33m,\u001b[0m \u001b[1;34m'🙄'\u001b[0m\u001b[1;33m]\u001b[0m\u001b[1;33m\u001b[0m\u001b[1;33m\u001b[0m\u001b[0m\n\u001b[0;32m      9\u001b[0m \u001b[1;33m\u001b[0m\u001b[0m\n\u001b[1;32m---> 10\u001b[1;33m \u001b[0md1\u001b[0m \u001b[1;33m=\u001b[0m \u001b[1;33m{\u001b[0m\u001b[0ml1\u001b[0m\u001b[1;33m[\u001b[0m\u001b[0mi\u001b[0m\u001b[1;33m]\u001b[0m\u001b[1;33m:\u001b[0m\u001b[0ml2\u001b[0m\u001b[1;33m[\u001b[0m\u001b[0mi\u001b[0m\u001b[1;33m]\u001b[0m \u001b[1;32mfor\u001b[0m \u001b[0mi\u001b[0m \u001b[1;32min\u001b[0m \u001b[0mrange\u001b[0m\u001b[1;33m(\u001b[0m\u001b[0mlen\u001b[0m\u001b[1;33m(\u001b[0m\u001b[0ml2\u001b[0m\u001b[1;33m)\u001b[0m\u001b[1;33m)\u001b[0m\u001b[1;33m}\u001b[0m\u001b[1;33m\u001b[0m\u001b[1;33m\u001b[0m\u001b[0m\n\u001b[0m\u001b[0;32m     11\u001b[0m \u001b[0mprint\u001b[0m\u001b[1;33m(\u001b[0m\u001b[0md1\u001b[0m\u001b[1;33m)\u001b[0m\u001b[1;33m\u001b[0m\u001b[1;33m\u001b[0m\u001b[0m\n",
      "\u001b[1;31mIndexError\u001b[0m: list index out of range"
     ]
    }
   ],
   "source": [
    "l1 = ['pose1', 'pose2', 'pose3']\n",
    "l2 = ['🐥', '🐤', '🐣', '🙄']\n",
    "\n",
    "d1 = {l1[i]:l2[i] for i in range(len(l1))}\n",
    "print(d1)\n",
    "\n",
    "l1 = ['pose1', 'pose2', 'pose3']\n",
    "l2 = ['🐥', '🐤', '🐣', '🙄']\n",
    "\n",
    "d1 = {l1[i]:l2[i] for i in range(len(l2))}\n",
    "print(d1)"
   ]
  },
  {
   "cell_type": "code",
   "execution_count": 127,
   "metadata": {},
   "outputs": [
    {
     "name": "stdout",
     "output_type": "stream",
     "text": [
      "{'张三': '看书', '李四': '睡觉', '王五': '打豆豆'}\n",
      "{'张三': '看书', '李四': '睡觉', '王五': '打豆豆'}\n"
     ]
    }
   ],
   "source": [
    "A = [\"张三\", \"李四\", \"王五\"]\n",
    "B = [\"看书\", \"睡觉\", \"打豆豆\"]\n",
    "\n",
    "D = {A[i]:B[i] for i in range(len(A))}\n",
    "print(D)\n",
    "E = {k:v for k,v in zip(A, B)}\n",
    "print(E)"
   ]
  },
  {
   "cell_type": "markdown",
   "metadata": {},
   "source": [
    "## 提取字典中的目标数据"
   ]
  },
  {
   "cell_type": "code",
   "execution_count": 129,
   "metadata": {},
   "outputs": [
    {
     "name": "stdout",
     "output_type": "stream",
     "text": [
      "{'MBP': 268, 'DELL': 201}\n"
     ]
    }
   ],
   "source": [
    "counts = {'MBP': 268, 'HP':125, 'DELL':201, 'Lenove':199, 'acer':99}\n",
    "\n",
    "count1 = {key: value for key, value in counts.items() if value>= 200}\n",
    "print(count1)"
   ]
  },
  {
   "cell_type": "code",
   "execution_count": 130,
   "metadata": {},
   "outputs": [
    {
     "name": "stdout",
     "output_type": "stream",
     "text": [
      "{'san': 60, 'si': 98, 'wu': 100}\n",
      "['san', 'si', 'wu']\n"
     ]
    }
   ],
   "source": [
    "a_dict = {'san':60, 'si':98, 'wu':100, 'liu':50}\n",
    "\n",
    "n_d = {key:value for key,value in a_dict.items() if value >= 60}\n",
    "print(n_d)\n",
    "n_l = [name for name,value in a_dict.items() if value >= 60]\n",
    "print(n_l)"
   ]
  },
  {
   "cell_type": "markdown",
   "metadata": {},
   "source": [
    "# 集合推导式"
   ]
  },
  {
   "cell_type": "code",
   "execution_count": 131,
   "metadata": {},
   "outputs": [
    {
     "name": "stdout",
     "output_type": "stream",
     "text": [
      "{1, 4}\n"
     ]
    }
   ],
   "source": [
    "list1 = [1, 1, 2]\n",
    "set1 = {i ** 2 for i in list1}\n",
    "print(set1)"
   ]
  },
  {
   "cell_type": "markdown",
   "metadata": {},
   "source": [
    "# 函数 先定义后调用"
   ]
  },
  {
   "cell_type": "markdown",
   "metadata": {},
   "source": [
    "## 定义函数"
   ]
  },
  {
   "cell_type": "code",
   "execution_count": 132,
   "metadata": {},
   "outputs": [
    {
     "name": "stdout",
     "output_type": "stream",
     "text": [
      "显示余额\n",
      "存款\n",
      "取款\n"
     ]
    }
   ],
   "source": [
    "def sel_func():\n",
    "    print(\"显示余额\")\n",
    "    print(\"存款\")\n",
    "    print(\"取款\")\n",
    "\n",
    "sel_func()"
   ]
  },
  {
   "cell_type": "markdown",
   "metadata": {},
   "source": [
    "## 函数参数 和 返回值"
   ]
  },
  {
   "cell_type": "code",
   "execution_count": 139,
   "metadata": {},
   "outputs": [
    {
     "name": "stdout",
     "output_type": "stream",
     "text": [
      "32\n"
     ]
    }
   ],
   "source": [
    "def add_num1(num1, num2):\n",
    "    result = num1 + num2\n",
    "    return result\n",
    "\n",
    "a = add_num1(2, 30)\n",
    "print(a)"
   ]
  },
  {
   "cell_type": "code",
   "execution_count": 141,
   "metadata": {},
   "outputs": [
    {
     "data": {
      "text/plain": [
       "55"
      ]
     },
     "execution_count": 141,
     "metadata": {},
     "output_type": "execute_result"
    }
   ],
   "source": [
    "def calculate(edge):\n",
    "    sum_c = 0\n",
    "    for i in range(1, edge+1):\n",
    "        sum_c += i\n",
    "    return sum_c\n",
    "\n",
    "calculate(10)"
   ]
  }
 ],
 "metadata": {
  "kernelspec": {
   "display_name": "Python 3",
   "language": "python",
   "name": "python3"
  },
  "language_info": {
   "codemirror_mode": {
    "name": "ipython",
    "version": 3
   },
   "file_extension": ".py",
   "mimetype": "text/x-python",
   "name": "python",
   "nbconvert_exporter": "python",
   "pygments_lexer": "ipython3",
   "version": "3.8.3"
  },
  "toc": {
   "base_numbering": 1,
   "nav_menu": {},
   "number_sections": true,
   "sideBar": true,
   "skip_h1_title": false,
   "title_cell": "Table of Contents",
   "title_sidebar": "Contents",
   "toc_cell": false,
   "toc_position": {},
   "toc_section_display": true,
   "toc_window_display": false
  }
 },
 "nbformat": 4,
 "nbformat_minor": 2
}
