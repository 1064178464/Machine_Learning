{
 "cells": [
  {
   "cell_type": "markdown",
   "metadata": {},
   "source": [
    "# 循环注意事项"
   ]
  },
  {
   "cell_type": "markdown",
   "metadata": {},
   "source": [
    "## 当使用while时，若不设置计数器，程序会陷入死循环"
   ]
  },
  {
   "cell_type": "markdown",
   "metadata": {},
   "source": [
    "# break跳出循环"
   ]
  },
  {
   "cell_type": "markdown",
   "metadata": {},
   "source": [
    "## break会直接跳出循环操作"
   ]
  },
  {
   "cell_type": "code",
   "execution_count": 6,
   "metadata": {},
   "outputs": [
    {
     "name": "stdout",
     "output_type": "stream",
     "text": [
      "EAT\n",
      "EAT\n",
      "EAT\n",
      "FULL\n"
     ]
    }
   ],
   "source": [
    "i = 1\n",
    "while i < 5:\n",
    "    print(\"EAT\")\n",
    "    if i == 3:\n",
    "        print(\"FULL\")\n",
    "        break\n",
    "    i += 1"
   ]
  },
  {
   "cell_type": "markdown",
   "metadata": {},
   "source": [
    "# continue跳出循环"
   ]
  },
  {
   "cell_type": "markdown",
   "metadata": {},
   "source": [
    "## continue只跳过一步"
   ]
  },
  {
   "cell_type": "markdown",
   "metadata": {},
   "source": [
    "## 如果使用了continue，必须在执行continue之前修改计数器"
   ]
  },
  {
   "cell_type": "code",
   "execution_count": 27,
   "metadata": {},
   "outputs": [
    {
     "name": "stdout",
     "output_type": "stream",
     "text": [
      "1\n",
      "2\n",
      "4\n",
      "5\n"
     ]
    }
   ],
   "source": [
    "i = 1\n",
    "while i <= 5:\n",
    "    if i == 3:\n",
    "        i += 1  # 修改计数器\n",
    "        continue\n",
    "    print(i)\n",
    "    i += 1"
   ]
  },
  {
   "cell_type": "code",
   "execution_count": 31,
   "metadata": {},
   "outputs": [
    {
     "name": "stdout",
     "output_type": "stream",
     "text": [
      "1\n",
      "3\n",
      "5\n",
      "7\n",
      "9\n",
      "11\n",
      "13\n",
      "15\n",
      "17\n",
      "19\n",
      "21\n",
      "23\n",
      "25\n",
      "27\n",
      "29\n",
      "31\n",
      "33\n",
      "35\n",
      "37\n",
      "39\n",
      "41\n",
      "43\n",
      "45\n",
      "47\n",
      "49\n",
      "51\n",
      "53\n",
      "55\n",
      "57\n",
      "59\n",
      "61\n",
      "63\n",
      "65\n",
      "67\n",
      "69\n",
      "71\n",
      "73\n",
      "75\n",
      "77\n",
      "79\n",
      "81\n",
      "83\n",
      "85\n",
      "87\n",
      "89\n",
      "91\n",
      "93\n",
      "95\n",
      "97\n",
      "99\n"
     ]
    }
   ],
   "source": [
    "\"\"\"\n",
    "    输出偶数\n",
    "\"\"\"\n",
    "i = 1\n",
    "while i <= 100:\n",
    "    if i % 2 == 0:\n",
    "        i += 1  # 修改计数器\n",
    "        continue\n",
    "    print(i)\n",
    "    i += 1"
   ]
  },
  {
   "cell_type": "markdown",
   "metadata": {},
   "source": [
    "## 循环嵌套"
   ]
  },
  {
   "cell_type": "code",
   "execution_count": 37,
   "metadata": {},
   "outputs": [
    {
     "name": "stdout",
     "output_type": "stream",
     "text": [
      "This is day 1\n",
      "Do the dishes!\n",
      "Do the dishes!\n",
      "Do the dishes!\n",
      "\n",
      "This is day 2\n",
      "Do the dishes!\n",
      "Do the dishes!\n",
      "Do the dishes!\n",
      "\n",
      "This is day 3\n",
      "Do the dishes!\n",
      "Do the dishes!\n",
      "Do the dishes!\n",
      "\n"
     ]
    }
   ],
   "source": [
    "day = 1\n",
    "while day <= 3:\n",
    "    action_mark = 1\n",
    "    print(f\"This is day {day}\")\n",
    "    while action_mark <= 3:\n",
    "        print(\"Do the dishes!\")\n",
    "        action_mark += 1\n",
    "    print()\n",
    "    day += 1"
   ]
  },
  {
   "cell_type": "code",
   "execution_count": 56,
   "metadata": {},
   "outputs": [
    {
     "name": "stdout",
     "output_type": "stream",
     "text": [
      "* * * \n",
      "* * * \n",
      "* * * \n"
     ]
    }
   ],
   "source": [
    "day = 0\n",
    "while day < 3:\n",
    "    action_mark = 0\n",
    "    while action_mark < 3:\n",
    "        print(\"*\", end = \" \")\n",
    "        action_mark += 1\n",
    "    print()\n",
    "    day += 1"
   ]
  },
  {
   "cell_type": "code",
   "execution_count": 58,
   "metadata": {},
   "outputs": [
    {
     "name": "stdout",
     "output_type": "stream",
     "text": [
      "* \n",
      "* * \n",
      "* * * \n"
     ]
    }
   ],
   "source": [
    "day = 0\n",
    "while day < 3:\n",
    "    action_mark = 0\n",
    "    while action_mark <= day:\n",
    "        print(\"*\", end = \" \")\n",
    "        action_mark += 1\n",
    "    print()\n",
    "    day += 1"
   ]
  },
  {
   "cell_type": "code",
   "execution_count": 3,
   "metadata": {},
   "outputs": [
    {
     "name": "stdout",
     "output_type": "stream",
     "text": [
      "1×1 = 1\t\n",
      "1×2 = 2\t2×2 = 4\t\n",
      "1×3 = 3\t2×3 = 6\t3×3 = 9\t\n",
      "1×4 = 4\t2×4 = 8\t3×4 = 12\t4×4 = 16\t\n",
      "1×5 = 5\t2×5 = 10\t3×5 = 15\t4×5 = 20\t5×5 = 25\t\n",
      "1×6 = 6\t2×6 = 12\t3×6 = 18\t4×6 = 24\t5×6 = 30\t6×6 = 36\t\n",
      "1×7 = 7\t2×7 = 14\t3×7 = 21\t4×7 = 28\t5×7 = 35\t6×7 = 42\t7×7 = 49\t\n",
      "1×8 = 8\t2×8 = 16\t3×8 = 24\t4×8 = 32\t5×8 = 40\t6×8 = 48\t7×8 = 56\t8×8 = 64\t\n",
      "1×9 = 9\t2×9 = 18\t3×9 = 27\t4×9 = 36\t5×9 = 45\t6×9 = 54\t7×9 = 63\t8×9 = 72\t9×9 = 81\t\n"
     ]
    }
   ],
   "source": [
    "\"\"\"\n",
    "    while 打印乘法表（正向）\n",
    "\"\"\"\n",
    "x = 1\n",
    "while x <= 9:\n",
    "    y = 1\n",
    "    while y <= x:\n",
    "        print(f\"{y}×{x} = {x * y}\", end = \"\\t\")\n",
    "        y += 1\n",
    "    print()\n",
    "    x += 1"
   ]
  },
  {
   "cell_type": "code",
   "execution_count": 77,
   "metadata": {},
   "outputs": [
    {
     "name": "stdout",
     "output_type": "stream",
     "text": [
      "1×1 = 1   \n",
      "1×2 = 2   2×2 = 4   \n",
      "1×3 = 3   2×3 = 6   3×3 = 9   \n",
      "1×4 = 4   2×4 = 8   3×4 = 12  4×4 = 16  \n",
      "1×5 = 5   2×5 = 10  3×5 = 15  4×5 = 20  5×5 = 25  \n",
      "1×6 = 6   2×6 = 12  3×6 = 18  4×6 = 24  5×6 = 30  6×6 = 36  \n",
      "1×7 = 7   2×7 = 14  3×7 = 21  4×7 = 28  5×7 = 35  6×7 = 42  7×7 = 49  \n",
      "1×8 = 8   2×8 = 16  3×8 = 24  4×8 = 32  5×8 = 40  6×8 = 48  7×8 = 56  8×8 = 64  \n",
      "1×9 = 9   2×9 = 18  3×9 = 27  4×9 = 36  5×9 = 45  6×9 = 54  7×9 = 63  8×9 = 72  9×9 = 81  \n"
     ]
    }
   ],
   "source": [
    "\"\"\"\n",
    "    for 打印乘法表（正向）\n",
    "\"\"\"\n",
    "for i in range(1, 10):\n",
    "    for j in range(1, i+1):\n",
    "        if(i * j < 10):\n",
    "            print(f\"{j}×{i} = {i * j} \", end = \"  \")\n",
    "        else:\n",
    "            print(f\"{j}×{i} = {i * j}\", end = \"  \")\n",
    "    print()"
   ]
  },
  {
   "cell_type": "code",
   "execution_count": 13,
   "metadata": {},
   "outputs": [
    {
     "name": "stdout",
     "output_type": "stream",
     "text": [
      "1×9=9\t2×9=18\t3×9=27\t4×9=36\t5×9=45\t6×9=54\t7×9=63\t8×9=72\t9×9=81\t\n",
      "1×8=8\t2×8=16\t3×8=24\t4×8=32\t5×8=40\t6×8=48\t7×8=56\t8×8=64\t\n",
      "1×7=7\t2×7=14\t3×7=21\t4×7=28\t5×7=35\t6×7=42\t7×7=49\t\n",
      "1×6=6\t2×6=12\t3×6=18\t4×6=24\t5×6=30\t6×6=36\t\n",
      "1×5=5\t2×5=10\t3×5=15\t4×5=20\t5×5=25\t\n",
      "1×4=4\t2×4=8\t3×4=12\t4×4=16\t\n",
      "1×3=3\t2×3=6\t3×3=9\t\n",
      "1×2=2\t2×2=4\t\n",
      "1×1=1\t\n"
     ]
    }
   ],
   "source": [
    "\"\"\"\n",
    "    while 打印乘法表（逆向）\n",
    "\"\"\"\n",
    "x = 9\n",
    "while x >= 1:\n",
    "    y = 1\n",
    "    while y <= x:\n",
    "        print(f\"{y}×{x}={x * y}\", end = \"\\t\")\n",
    "        y += 1\n",
    "    print()\n",
    "    x -= 1"
   ]
  },
  {
   "cell_type": "code",
   "execution_count": 14,
   "metadata": {},
   "outputs": [
    {
     "name": "stdout",
     "output_type": "stream",
     "text": [
      "1×9=9\t2×9=18\t3×9=27\t4×9=36\t5×9=45\t6×9=54\t7×9=63\t8×9=72\t9×9=81\t\n",
      "1×8=8\t2×8=16\t3×8=24\t4×8=32\t5×8=40\t6×8=48\t7×8=56\t8×8=64\t\n",
      "1×7=7\t2×7=14\t3×7=21\t4×7=28\t5×7=35\t6×7=42\t7×7=49\t\n",
      "1×6=6\t2×6=12\t3×6=18\t4×6=24\t5×6=30\t6×6=36\t\n",
      "1×5=5\t2×5=10\t3×5=15\t4×5=20\t5×5=25\t\n",
      "1×4=4\t2×4=8\t3×4=12\t4×4=16\t\n",
      "1×3=3\t2×3=6\t3×3=9\t\n",
      "1×2=2\t2×2=4\t\n",
      "1×1=1\t\n"
     ]
    }
   ],
   "source": [
    "\"\"\"\n",
    "    for打印乘法表（逆向）\n",
    "\"\"\"\n",
    "for i in range(9, 0, -1):\n",
    "    for j in range(1, i+1):\n",
    "        print(f\"{j}×{i}={i * j}\", end = \"\\t\")\n",
    "    print()"
   ]
  },
  {
   "cell_type": "markdown",
   "metadata": {},
   "source": [
    "# for循环"
   ]
  },
  {
   "cell_type": "code",
   "execution_count": 15,
   "metadata": {},
   "outputs": [
    {
     "name": "stdout",
     "output_type": "stream",
     "text": [
      "i\n",
      "t\n",
      "h\n",
      "e\n",
      "i\n",
      "m\n",
      "a\n"
     ]
    }
   ],
   "source": [
    "str1 = 'itheima'\n",
    "for c in str1:\n",
    "    print(c)"
   ]
  },
  {
   "cell_type": "code",
   "execution_count": 18,
   "metadata": {},
   "outputs": [
    {
     "name": "stdout",
     "output_type": "stream",
     "text": [
      "heima\n"
     ]
    }
   ],
   "source": [
    "print(str1[2:])"
   ]
  },
  {
   "cell_type": "code",
   "execution_count": 24,
   "metadata": {},
   "outputs": [
    {
     "name": "stdout",
     "output_type": "stream",
     "text": [
      "i\n",
      "t\n",
      "h\n"
     ]
    }
   ],
   "source": [
    "for i in str1:\n",
    "    if i == \"e\":\n",
    "        break\n",
    "    print(i)"
   ]
  },
  {
   "cell_type": "code",
   "execution_count": 23,
   "metadata": {
    "scrolled": true
   },
   "outputs": [
    {
     "name": "stdout",
     "output_type": "stream",
     "text": [
      "i\n",
      "t\n",
      "h\n",
      "i\n",
      "m\n",
      "a\n"
     ]
    }
   ],
   "source": [
    "for i in str1:\n",
    "    if i == \"e\":\n",
    "        continue\n",
    "    print(i)"
   ]
  },
  {
   "cell_type": "markdown",
   "metadata": {},
   "source": [
    "# while...else..."
   ]
  },
  {
   "cell_type": "code",
   "execution_count": 28,
   "metadata": {},
   "outputs": [
    {
     "name": "stdout",
     "output_type": "stream",
     "text": [
      "Python\n",
      "Python\n",
      "Python\n",
      "AI\n"
     ]
    }
   ],
   "source": [
    "i = 0\n",
    "while i < 3:\n",
    "    print(\"Python\")\n",
    "    i += 1\n",
    "else:\n",
    "    print(\"AI\")"
   ]
  },
  {
   "cell_type": "markdown",
   "metadata": {},
   "source": [
    "# 若在执行else中语句之前有break，则else不执行 "
   ]
  },
  {
   "cell_type": "code",
   "execution_count": 29,
   "metadata": {},
   "outputs": [
    {
     "name": "stdout",
     "output_type": "stream",
     "text": [
      "DO\n",
      "DO\n",
      "DO\n",
      "Stop\n"
     ]
    }
   ],
   "source": [
    "i = 0\n",
    "while i < 5:\n",
    "    if i == 3:\n",
    "        print(\"Stop\")\n",
    "        break\n",
    "    print(\"DO\")\n",
    "    i += 1\n",
    "else:\n",
    "    print(\"JUST DO IT\")"
   ]
  },
  {
   "cell_type": "markdown",
   "metadata": {},
   "source": [
    "# 若else之前有continue，else正常执行"
   ]
  },
  {
   "cell_type": "markdown",
   "metadata": {},
   "source": [
    "## 因为continue只是退出当前循环，继续下一次循环"
   ]
  },
  {
   "cell_type": "code",
   "execution_count": 31,
   "metadata": {},
   "outputs": [
    {
     "name": "stdout",
     "output_type": "stream",
     "text": [
      "DO\n",
      "DO\n",
      "DO\n",
      "Stop\n",
      "DO\n",
      "JUST DO IT\n"
     ]
    }
   ],
   "source": [
    "i = 0\n",
    "while i < 5:\n",
    "    if i == 3:\n",
    "        print(\"Stop\")\n",
    "        i += 1\n",
    "        continue\n",
    "    print(\"DO\")\n",
    "    i += 1\n",
    "else:\n",
    "    print(\"JUST DO IT\")"
   ]
  },
  {
   "cell_type": "markdown",
   "metadata": {},
   "source": [
    "# for...else"
   ]
  },
  {
   "cell_type": "markdown",
   "metadata": {},
   "source": [
    "## 对于for循环，else，break， continue功能与while循环相同"
   ]
  },
  {
   "cell_type": "code",
   "execution_count": 33,
   "metadata": {},
   "outputs": [
    {
     "name": "stdout",
     "output_type": "stream",
     "text": [
      "i\n",
      "t\n",
      "h\n",
      "e\n",
      "i\n",
      "m\n",
      "a\n",
      "END\n"
     ]
    }
   ],
   "source": [
    "str1 = 'itheima'\n",
    "for i in str1:\n",
    "    print(i)\n",
    "else:\n",
    "    print(\"END\")"
   ]
  },
  {
   "cell_type": "markdown",
   "metadata": {},
   "source": [
    "## for...continue...else"
   ]
  },
  {
   "cell_type": "code",
   "execution_count": 35,
   "metadata": {},
   "outputs": [
    {
     "name": "stdout",
     "output_type": "stream",
     "text": [
      "i\n",
      "t\n",
      "h\n",
      "MEET E SKIP\n",
      "i\n",
      "m\n",
      "a\n",
      "END\n"
     ]
    }
   ],
   "source": [
    "str1 = 'itheima'\n",
    "for i in str1:\n",
    "    if i == 'e':\n",
    "        print(\"MEET E SKIP\")\n",
    "        continue\n",
    "    print(i)\n",
    "else:\n",
    "    print(\"END\")"
   ]
  },
  {
   "cell_type": "markdown",
   "metadata": {},
   "source": [
    "## for...break...else"
   ]
  },
  {
   "cell_type": "code",
   "execution_count": 36,
   "metadata": {},
   "outputs": [
    {
     "name": "stdout",
     "output_type": "stream",
     "text": [
      "i\n",
      "t\n",
      "h\n",
      "MEET E STOP\n"
     ]
    }
   ],
   "source": [
    "str1 = 'itheima'\n",
    "for i in str1:\n",
    "    if i == 'e':\n",
    "        print(\"MEET E STOP\")\n",
    "        break\n",
    "    print(i)\n",
    "else:\n",
    "    print(\"END\")"
   ]
  },
  {
   "cell_type": "markdown",
   "metadata": {},
   "source": [
    "# 容器----字符串"
   ]
  },
  {
   "cell_type": "code",
   "execution_count": 43,
   "metadata": {},
   "outputs": [
    {
     "name": "stdout",
     "output_type": "stream",
     "text": [
      "I do not wish to be horny anymore!\n",
      "<class 'str'>\n",
      "TOM\n",
      "<class 'str'>\n",
      "Print\n",
      "<class 'str'>\n",
      "GO\n",
      "<class 'str'>\n"
     ]
    }
   ],
   "source": [
    "a = 'I do not wish to be horny anymore!'\n",
    "b = \"TOM\"\n",
    "c = '''Print'''\n",
    "d = \"\"\"GO\"\"\"\n",
    "print(a)\n",
    "print(type(a))\n",
    "print(b)\n",
    "print(type(b))\n",
    "print(c)\n",
    "print(type(c))\n",
    "print(d)\n",
    "print(type(d))"
   ]
  },
  {
   "cell_type": "markdown",
   "metadata": {},
   "source": [
    "## 单、双、三引号的区别"
   ]
  },
  {
   "cell_type": "markdown",
   "metadata": {},
   "source": [
    "## 三引号可以不使用 \\ 换行输出"
   ]
  },
  {
   "cell_type": "markdown",
   "metadata": {},
   "source": [
    "## 同时，若在三引号中使用了换行，输出时也会换行"
   ]
  },
  {
   "cell_type": "code",
   "execution_count": 45,
   "metadata": {},
   "outputs": [
    {
     "name": "stdout",
     "output_type": "stream",
     "text": [
      "hello world\n",
      "hello \n",
      "world\n"
     ]
    }
   ],
   "source": [
    "a = 'hello \\\n",
    "world'\n",
    "\n",
    "b = '''hello \n",
    "world'''\n",
    "\n",
    "print(a)\n",
    "print(b)"
   ]
  },
  {
   "cell_type": "markdown",
   "metadata": {},
   "source": [
    "## 在需要使用 ’m 的英语语法时，使用“”或者 \\ 使得 ’转义为英语的’"
   ]
  },
  {
   "cell_type": "code",
   "execution_count": 48,
   "metadata": {},
   "outputs": [
    {
     "name": "stdout",
     "output_type": "stream",
     "text": [
      "I'm tom.\n",
      "I'm tom.\n"
     ]
    }
   ],
   "source": [
    "a = 'I\\'m tom.'\n",
    "b = \"I'm tom.\"\n",
    "print(a)\n",
    "print(b)"
   ]
  },
  {
   "cell_type": "markdown",
   "metadata": {},
   "source": [
    "## 字符串的输出"
   ]
  },
  {
   "cell_type": "markdown",
   "metadata": {},
   "source": [
    "## 格式化输出"
   ]
  },
  {
   "cell_type": "code",
   "execution_count": 54,
   "metadata": {
    "scrolled": true
   },
   "outputs": [
    {
     "name": "stdout",
     "output_type": "stream",
     "text": [
      "Hello world!\n",
      "My name is Tom\n",
      "My name is Tom\n",
      "My name is Tom\n",
      "Age is 023\n",
      "Height is 180.2\n",
      "Age is 23\n",
      "Height is 180.2\n"
     ]
    }
   ],
   "source": [
    "print(\"Hello world!\")\n",
    "\n",
    "name = 'Tom'\n",
    "print(f\"My name is {name}\")\n",
    "print(\"My name is %s\" % name)\n",
    "print(\"My name is \" + name)\n",
    "\n",
    "my_age = 23\n",
    "my_height = 180.2\n",
    "print(\"Age is %03d\" % my_age)\n",
    "print(\"Height is %.1f\" % my_height)\n",
    "print(f\"Age is {my_age}\")\n",
    "print(f\"Height is {my_height}\")"
   ]
  },
  {
   "cell_type": "markdown",
   "metadata": {},
   "source": [
    "## 字符串的输入"
   ]
  },
  {
   "cell_type": "markdown",
   "metadata": {},
   "source": [
    "## 只要是使用input函数接收的数据，无论是数字还是字符，全都以字符串类型存储"
   ]
  },
  {
   "cell_type": "code",
   "execution_count": 55,
   "metadata": {},
   "outputs": [
    {
     "name": "stdout",
     "output_type": "stream",
     "text": [
      "Input sth:123\n",
      "<class 'str'>\n"
     ]
    }
   ],
   "source": [
    "pwd = input(\"Input sth:\")\n",
    "print(type(pwd))"
   ]
  },
  {
   "cell_type": "markdown",
   "metadata": {},
   "source": [
    "## 字符串下标 即 字符串中字符的索引"
   ]
  },
  {
   "cell_type": "code",
   "execution_count": 56,
   "metadata": {},
   "outputs": [
    {
     "name": "stdout",
     "output_type": "stream",
     "text": [
      "26\n"
     ]
    }
   ],
   "source": [
    "memory = \"abcdefghijklmnopqrstuvwxyz\"\n",
    "print(len(memory))"
   ]
  },
  {
   "cell_type": "code",
   "execution_count": 65,
   "metadata": {},
   "outputs": [
    {
     "name": "stdout",
     "output_type": "stream",
     "text": [
      "23\n",
      "a\n",
      "i\n",
      "n\n",
      "i\n"
     ]
    }
   ],
   "source": [
    "str1 = \"chuanzhibokehuanyingni!\"\n",
    "print(len(str1))\n",
    "print(str1[3])\n",
    "print(str1[7])\n",
    "print(str1[15])\n",
    "print(str1[17])"
   ]
  },
  {
   "cell_type": "markdown",
   "metadata": {},
   "source": [
    "## 切片 [a:b] 从a开始，取到b的前一个"
   ]
  },
  {
   "cell_type": "markdown",
   "metadata": {},
   "source": [
    "## 序列[开始位置下标：结束位置下标：步长]"
   ]
  },
  {
   "cell_type": "code",
   "execution_count": 61,
   "metadata": {
    "scrolled": true
   },
   "outputs": [
    {
     "name": "stdout",
     "output_type": "stream",
     "text": [
      "abcdefghij\n",
      "k\n"
     ]
    }
   ],
   "source": [
    "print(memory[0: 10])\n",
    "print(memory[10])"
   ]
  },
  {
   "cell_type": "code",
   "execution_count": 69,
   "metadata": {},
   "outputs": [
    {
     "name": "stdout",
     "output_type": "stream",
     "text": [
      "cegi\n"
     ]
    }
   ],
   "source": [
    "print(memory[2: 10: 2])"
   ]
  },
  {
   "cell_type": "markdown",
   "metadata": {},
   "source": [
    "## 步长可以为负数"
   ]
  },
  {
   "cell_type": "code",
   "execution_count": 71,
   "metadata": {},
   "outputs": [
    {
     "name": "stdout",
     "output_type": "stream",
     "text": [
      "zyxwvutsrqponmlkjihgfedcba\n"
     ]
    }
   ],
   "source": [
    "print(memory[::-1])"
   ]
  },
  {
   "cell_type": "markdown",
   "metadata": {},
   "source": [
    "## 下标也可以取负数"
   ]
  },
  {
   "cell_type": "code",
   "execution_count": 76,
   "metadata": {},
   "outputs": [
    {
     "name": "stdout",
     "output_type": "stream",
     "text": [
      "zyxw\n"
     ]
    }
   ],
   "source": [
    "print(memory[-1: -5: -1])"
   ]
  },
  {
   "cell_type": "code",
   "execution_count": 80,
   "metadata": {},
   "outputs": [
    {
     "name": "stdout",
     "output_type": "stream",
     "text": [
      "abc\n",
      "ace\n",
      "\n",
      "bd\n",
      "fdb\n",
      "fd\n"
     ]
    }
   ],
   "source": [
    "str_test = \"abcdef\"\n",
    "\n",
    "print(str_test[ : 3])\n",
    "print(str_test[: : 2])\n",
    "print(str_test[5: 1: 2])\n",
    "print(str_test[1: 5: 2])\n",
    "print(str_test[: : -2])\n",
    "print(str_test[5: 1: -2])"
   ]
  },
  {
   "cell_type": "markdown",
   "metadata": {},
   "source": [
    "# 字符串的查找"
   ]
  },
  {
   "cell_type": "markdown",
   "metadata": {},
   "source": [
    "## find（）和 index（）从左往右查找"
   ]
  },
  {
   "cell_type": "markdown",
   "metadata": {},
   "source": [
    "## find() 检测某个子串是否包含在这个字符串中，如果包含，返回子串开始位置的下标，否则返回-1"
   ]
  },
  {
   "cell_type": "markdown",
   "metadata": {},
   "source": [
    "## 字符串序列.find(子串, 开始位置, 结束位置)"
   ]
  },
  {
   "cell_type": "code",
   "execution_count": 89,
   "metadata": {},
   "outputs": [
    {
     "name": "stdout",
     "output_type": "stream",
     "text": [
      "0\n"
     ]
    }
   ],
   "source": [
    "print(str_test.find(\"abc\"))"
   ]
  },
  {
   "cell_type": "code",
   "execution_count": 90,
   "metadata": {},
   "outputs": [
    {
     "name": "stdout",
     "output_type": "stream",
     "text": [
      "-1\n"
     ]
    }
   ],
   "source": [
    "print(str_test.find(\"z\"))"
   ]
  },
  {
   "cell_type": "markdown",
   "metadata": {},
   "source": [
    "## index()中，如果子串不存在于字符串中，则报错"
   ]
  },
  {
   "cell_type": "code",
   "execution_count": 84,
   "metadata": {},
   "outputs": [
    {
     "data": {
      "text/plain": [
       "0"
      ]
     },
     "execution_count": 84,
     "metadata": {},
     "output_type": "execute_result"
    }
   ],
   "source": [
    "print(str_test.index(\"abc\"))"
   ]
  },
  {
   "cell_type": "code",
   "execution_count": 85,
   "metadata": {},
   "outputs": [
    {
     "ename": "ValueError",
     "evalue": "substring not found",
     "output_type": "error",
     "traceback": [
      "\u001b[1;31m---------------------------------------------------------------------------\u001b[0m",
      "\u001b[1;31mValueError\u001b[0m                                Traceback (most recent call last)",
      "\u001b[1;32m<ipython-input-85-348ba3fa4c8c>\u001b[0m in \u001b[0;36m<module>\u001b[1;34m\u001b[0m\n\u001b[1;32m----> 1\u001b[1;33m \u001b[0mstr_test\u001b[0m\u001b[1;33m.\u001b[0m\u001b[0mindex\u001b[0m\u001b[1;33m(\u001b[0m\u001b[1;34m\"g\"\u001b[0m\u001b[1;33m)\u001b[0m\u001b[1;33m\u001b[0m\u001b[1;33m\u001b[0m\u001b[0m\n\u001b[0m",
      "\u001b[1;31mValueError\u001b[0m: substring not found"
     ]
    }
   ],
   "source": [
    "print(str_test.index(\"g\"))"
   ]
  },
  {
   "cell_type": "markdown",
   "metadata": {},
   "source": [
    "## count()方法返回子串出现的次数"
   ]
  },
  {
   "cell_type": "code",
   "execution_count": 91,
   "metadata": {},
   "outputs": [
    {
     "name": "stdout",
     "output_type": "stream",
     "text": [
      "1\n"
     ]
    }
   ],
   "source": [
    "print(str_test.count('a'))"
   ]
  },
  {
   "cell_type": "markdown",
   "metadata": {},
   "source": [
    "## count()可在区间查找"
   ]
  },
  {
   "cell_type": "code",
   "execution_count": 95,
   "metadata": {},
   "outputs": [
    {
     "name": "stdout",
     "output_type": "stream",
     "text": [
      "1\n"
     ]
    }
   ],
   "source": [
    "# 在0-4区间内找 d\n",
    "print(str_test.count('d', 0, 4))"
   ]
  },
  {
   "cell_type": "markdown",
   "metadata": {},
   "source": [
    "## rfind()，rindex() 从右往左找，下标仍然从左边开始计算"
   ]
  },
  {
   "cell_type": "code",
   "execution_count": 92,
   "metadata": {},
   "outputs": [
    {
     "name": "stdout",
     "output_type": "stream",
     "text": [
      "0\n"
     ]
    }
   ],
   "source": [
    "print(str_test.rfind('a'))"
   ]
  },
  {
   "cell_type": "code",
   "execution_count": 93,
   "metadata": {},
   "outputs": [
    {
     "name": "stdout",
     "output_type": "stream",
     "text": [
      "5\n"
     ]
    }
   ],
   "source": [
    "print(str_test.rindex('f'))"
   ]
  },
  {
   "cell_type": "code",
   "execution_count": 102,
   "metadata": {},
   "outputs": [
    {
     "name": "stdout",
     "output_type": "stream",
     "text": [
      "0\n",
      "0\n",
      "-1\n",
      "-1\n",
      "0\n",
      "0\n",
      "0\n",
      "0\n",
      "3\n"
     ]
    }
   ],
   "source": [
    "str2 = \"chuan zhi bo ke huan ying ni!\"\n",
    "\n",
    "print(str2.find(\"chuan zhi\"))\n",
    "print(str2.rfind(\"chuan zhi\"))\n",
    "\n",
    "print(str2.find(\"chuan zhi\", 1, 10))\n",
    "print(str2.rfind(\"chuan zhi\", 1, 10))\n",
    "\n",
    "print(str2.index(\"chuan zhi\"))\n",
    "print(str2.rindex(\"chuan zhi\"))\n",
    "\n",
    "print(str2.index(\"chuan zhi\", 0, 10))\n",
    "print(str2.rindex(\"chuan zhi\", 0 ,10))\n",
    "\n",
    "print(str2.count(\"h\"))"
   ]
  },
  {
   "cell_type": "markdown",
   "metadata": {},
   "source": [
    "# 字符串的修改"
   ]
  },
  {
   "cell_type": "markdown",
   "metadata": {},
   "source": [
    "## 字符串是不可变数据类型"
   ]
  },
  {
   "cell_type": "markdown",
   "metadata": {},
   "source": [
    "## 子串替换 字符串.replace(旧子串，新子串，替换次数)"
   ]
  },
  {
   "cell_type": "markdown",
   "metadata": {},
   "source": [
    "## replace()函数会返回一个新的字符串，不会改变原有的字符串"
   ]
  },
  {
   "cell_type": "code",
   "execution_count": 106,
   "metadata": {},
   "outputs": [
    {
     "name": "stdout",
     "output_type": "stream",
     "text": [
      "hello world 和 itcast and itheima and Python\n",
      "hello world and itcast and itheima and Python\n"
     ]
    }
   ],
   "source": [
    "mystr = \"hello world and itcast and itheima and Python\"\n",
    "new_str = mystr.replace(\"and\", \"和\", 1)\n",
    "print(new_str)\n",
    "print(mystr)"
   ]
  },
  {
   "cell_type": "markdown",
   "metadata": {},
   "source": [
    "## 当替换次数超出子串出现的次数，表示替换全部"
   ]
  },
  {
   "cell_type": "code",
   "execution_count": 107,
   "metadata": {},
   "outputs": [
    {
     "name": "stdout",
     "output_type": "stream",
     "text": [
      "hello world 和 itcast 和 itheima 和 Python\n"
     ]
    }
   ],
   "source": [
    "mystr = \"hello world and itcast and itheima and Python\"\n",
    "new_str = mystr.replace(\"and\", \"和\", 4)\n",
    "print(new_str)"
   ]
  },
  {
   "cell_type": "markdown",
   "metadata": {},
   "source": [
    "## split() 返回一个列表"
   ]
  },
  {
   "cell_type": "markdown",
   "metadata": {},
   "source": [
    "## 字符串.split(分割字符, num) 此操作会丢失分割字符"
   ]
  },
  {
   "cell_type": "code",
   "execution_count": 108,
   "metadata": {},
   "outputs": [
    {
     "name": "stdout",
     "output_type": "stream",
     "text": [
      "['hello world ', ' itcast ', ' itheima ', ' Python']\n"
     ]
    }
   ],
   "source": [
    "list_str = mystr.split(\"and\")\n",
    "print(list_str)"
   ]
  },
  {
   "cell_type": "code",
   "execution_count": 109,
   "metadata": {},
   "outputs": [
    {
     "name": "stdout",
     "output_type": "stream",
     "text": [
      "['hello world ', ' itcast ', ' itheima and Python']\n"
     ]
    }
   ],
   "source": [
    "# 用and分割两次\n",
    "list_str = mystr.split(\"and\", 2)\n",
    "print(list_str)"
   ]
  },
  {
   "cell_type": "markdown",
   "metadata": {},
   "source": [
    "## 利用特定字符对字符串进行拼接"
   ]
  },
  {
   "cell_type": "markdown",
   "metadata": {},
   "source": [
    "## 需要插入的字符.join() -> 用需要插入的字符连接列表中所有的字符"
   ]
  },
  {
   "cell_type": "code",
   "execution_count": 1,
   "metadata": {},
   "outputs": [
    {
     "name": "stdout",
     "output_type": "stream",
     "text": [
      "aa..bb..cc\n"
     ]
    }
   ],
   "source": [
    "my_list = ['aa', 'bb', 'cc']\n",
    "\n",
    "# 合并成 aa..bb..cc\n",
    "new_str = '..'.join(my_list)\n",
    "print(new_str)"
   ]
  }
 ],
 "metadata": {
  "kernelspec": {
   "display_name": "Python 3",
   "language": "python",
   "name": "python3"
  },
  "language_info": {
   "codemirror_mode": {
    "name": "ipython",
    "version": 3
   },
   "file_extension": ".py",
   "mimetype": "text/x-python",
   "name": "python",
   "nbconvert_exporter": "python",
   "pygments_lexer": "ipython3",
   "version": "3.8.3"
  },
  "toc": {
   "base_numbering": 1,
   "nav_menu": {},
   "number_sections": true,
   "sideBar": true,
   "skip_h1_title": false,
   "title_cell": "Table of Contents",
   "title_sidebar": "Contents",
   "toc_cell": false,
   "toc_position": {},
   "toc_section_display": true,
   "toc_window_display": false
  }
 },
 "nbformat": 4,
 "nbformat_minor": 2
}
