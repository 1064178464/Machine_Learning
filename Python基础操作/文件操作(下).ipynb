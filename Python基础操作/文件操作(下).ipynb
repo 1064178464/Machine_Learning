{
 "cells": [
  {
   "cell_type": "markdown",
   "metadata": {},
   "source": [
    "# 文件的访问模式"
   ]
  },
  {
   "cell_type": "markdown",
   "metadata": {},
   "source": [
    "## 主访问模式"
   ]
  },
  {
   "cell_type": "markdown",
   "metadata": {},
   "source": [
    "## 若省略不写访问模式，默认为只读访问模式"
   ]
  },
  {
   "cell_type": "markdown",
   "metadata": {},
   "source": [
    "## r、rb、r+、w、wb、w+、wb+、a"
   ]
  },
  {
   "cell_type": "markdown",
   "metadata": {},
   "source": [
    "## r：读、w：写、a：追加"
   ]
  },
  {
   "cell_type": "markdown",
   "metadata": {},
   "source": [
    "## r：只读访问模式，如果文件不存在，会报错，并且不支持写入"
   ]
  },
  {
   "cell_type": "code",
   "execution_count": 1,
   "metadata": {},
   "outputs": [],
   "source": [
    "f = open(\"test.txt\",\"r\")\n",
    "f.close()"
   ]
  },
  {
   "cell_type": "code",
   "execution_count": 3,
   "metadata": {},
   "outputs": [
    {
     "ename": "FileNotFoundError",
     "evalue": "[Errno 2] No such file or directory: 'test1.txt'",
     "output_type": "error",
     "traceback": [
      "\u001b[1;31m---------------------------------------------------------------------------\u001b[0m",
      "\u001b[1;31mFileNotFoundError\u001b[0m                         Traceback (most recent call last)",
      "\u001b[1;32m<ipython-input-3-efc5deddd916>\u001b[0m in \u001b[0;36m<module>\u001b[1;34m\u001b[0m\n\u001b[1;32m----> 1\u001b[1;33m \u001b[0mf\u001b[0m \u001b[1;33m=\u001b[0m \u001b[0mopen\u001b[0m\u001b[1;33m(\u001b[0m\u001b[1;34m\"test1.txt\"\u001b[0m\u001b[1;33m,\u001b[0m\u001b[1;34m\"r\"\u001b[0m\u001b[1;33m)\u001b[0m\u001b[1;33m\u001b[0m\u001b[1;33m\u001b[0m\u001b[0m\n\u001b[0m\u001b[0;32m      2\u001b[0m \u001b[0mf\u001b[0m\u001b[1;33m.\u001b[0m\u001b[0mclose\u001b[0m\u001b[1;33m(\u001b[0m\u001b[1;33m)\u001b[0m\u001b[1;33m\u001b[0m\u001b[1;33m\u001b[0m\u001b[0m\n",
      "\u001b[1;31mFileNotFoundError\u001b[0m: [Errno 2] No such file or directory: 'test1.txt'"
     ]
    }
   ],
   "source": [
    "f = open(\"test1.txt\",\"r\")\n",
    "f.close()"
   ]
  },
  {
   "cell_type": "markdown",
   "metadata": {},
   "source": [
    "## w：写访问模式，如果文件不存在，新建一个文件"
   ]
  },
  {
   "cell_type": "code",
   "execution_count": 5,
   "metadata": {},
   "outputs": [],
   "source": [
    "f = open(\"1.txt\",\"w\")\n",
    "f.write(\"aa\")\n",
    "f.close()"
   ]
  },
  {
   "cell_type": "code",
   "execution_count": 6,
   "metadata": {},
   "outputs": [],
   "source": [
    "f = open(\"1.txt\",\"w\")\n",
    "f.write(\"xx\")\n",
    "f.close()"
   ]
  },
  {
   "cell_type": "markdown",
   "metadata": {},
   "source": [
    "## 此时文件内容为xx，使用写入模式时会直接覆盖文件的原内容"
   ]
  },
  {
   "cell_type": "markdown",
   "metadata": {},
   "source": [
    "## a：追加模式，如果文件不存在，新建一个文件"
   ]
  },
  {
   "cell_type": "code",
   "execution_count": 7,
   "metadata": {},
   "outputs": [],
   "source": [
    "f = open(\"1.txt\",\"a\")\n",
    "f.write(\"aa\")\n",
    "f.close()"
   ]
  },
  {
   "cell_type": "markdown",
   "metadata": {},
   "source": [
    "## 此时文件内容为xxaa"
   ]
  },
  {
   "cell_type": "markdown",
   "metadata": {},
   "source": [
    "# 绝对路径 / 相对路径"
   ]
  },
  {
   "cell_type": "markdown",
   "metadata": {},
   "source": [
    "# 文件读写"
   ]
  },
  {
   "cell_type": "markdown",
   "metadata": {},
   "source": [
    "## read()、readline()、readlines()"
   ]
  },
  {
   "cell_type": "markdown",
   "metadata": {},
   "source": [
    "## obj.read(num) num表示需要读取的字节，不写表示读取全部"
   ]
  },
  {
   "cell_type": "code",
   "execution_count": 22,
   "metadata": {},
   "outputs": [
    {
     "name": "stdout",
     "output_type": "stream",
     "text": [
      "aaaaa\n",
      "bbbbb\n",
      "ccccc\n",
      "ddddd\n",
      "eeeee\n"
     ]
    }
   ],
   "source": [
    "# 不传参\n",
    "f = open('1.txt','r')\n",
    "print(f.read())\n",
    "f.close()"
   ]
  },
  {
   "cell_type": "code",
   "execution_count": 28,
   "metadata": {},
   "outputs": [
    {
     "name": "stdout",
     "output_type": "stream",
     "text": [
      "aaaaa\n",
      "bbbb\n",
      "\n",
      "b\n",
      "ccccc\n",
      "ddddd\n",
      "eeeee\n"
     ]
    }
   ],
   "source": [
    "# 传参\n",
    "f = open('1.txt','r')\n",
    "print(f.read(10))\n",
    "print()\n",
    "print(f.read())\n",
    "f.close()"
   ]
  },
  {
   "cell_type": "markdown",
   "metadata": {},
   "source": [
    "## readline()：读取一行"
   ]
  },
  {
   "cell_type": "code",
   "execution_count": 37,
   "metadata": {},
   "outputs": [
    {
     "name": "stdout",
     "output_type": "stream",
     "text": [
      "aaaaa\n",
      "\n",
      "bbbbb\n",
      "\n",
      "--------------------\n",
      "aaaaa\n",
      "\n",
      "bbbbb\n",
      "\n",
      "ccccc\n",
      "\n",
      "ddddd\n",
      "\n",
      "eeeee\n"
     ]
    }
   ],
   "source": [
    "# 读取一行\n",
    "f = open('1.txt','r')\n",
    "a = f.readline()\n",
    "print(a)\n",
    "b = f.readline()\n",
    "print(b)\n",
    "f.close()\n",
    "\n",
    "print(\"-\" * 20)\n",
    "\n",
    "# 逐行读取\n",
    "f = open('1.txt','r')\n",
    "for line in f:\n",
    "    print(line)\n",
    "f.close()"
   ]
  },
  {
   "cell_type": "markdown",
   "metadata": {},
   "source": [
    "## readlines()：读取多行"
   ]
  },
  {
   "cell_type": "code",
   "execution_count": 31,
   "metadata": {},
   "outputs": [
    {
     "name": "stdout",
     "output_type": "stream",
     "text": [
      "['aaaaa\\n', 'bbbbb\\n', 'ccccc\\n', 'ddddd\\n', 'eeeee']\n"
     ]
    }
   ],
   "source": [
    "#读取所有多行\n",
    "f = open('1.txt','r')\n",
    "print(f.readlines())\n",
    "f.close()"
   ]
  },
  {
   "cell_type": "markdown",
   "metadata": {},
   "source": [
    "# 其他访问模式"
   ]
  },
  {
   "cell_type": "markdown",
   "metadata": {},
   "source": [
    "## rb、wb、r+、w+、rb+、wb+、ab、a+、ab+"
   ]
  },
  {
   "cell_type": "markdown",
   "metadata": {},
   "source": [
    "## 凡是带b的都是以2进制操作文件"
   ]
  },
  {
   "cell_type": "markdown",
   "metadata": {},
   "source": [
    "## 凡是带+的都是可读可写"
   ]
  },
  {
   "cell_type": "markdown",
   "metadata": {},
   "source": [
    "## 规则遵循主访问模式"
   ]
  },
  {
   "cell_type": "markdown",
   "metadata": {},
   "source": [
    "## rb、r+、rb+，只要文件不存在就报错，文件指针在文件开头"
   ]
  },
  {
   "cell_type": "markdown",
   "metadata": {},
   "source": [
    "## wb、w+、wb+，文件不存在就新建，文件指针在文件开头"
   ]
  },
  {
   "cell_type": "markdown",
   "metadata": {},
   "source": [
    "### 使用w+操作读取时会覆写所有内容，所有读不出任何内容"
   ]
  },
  {
   "cell_type": "code",
   "execution_count": 38,
   "metadata": {},
   "outputs": [
    {
     "name": "stdout",
     "output_type": "stream",
     "text": [
      "[]\n"
     ]
    }
   ],
   "source": [
    "# \n",
    "f = open('1.txt','w+')\n",
    "print(f.readlines())\n",
    "f.close()"
   ]
  },
  {
   "cell_type": "markdown",
   "metadata": {},
   "source": [
    "## ab、a+、ab+，文件指针在文件开头的结尾"
   ]
  },
  {
   "cell_type": "markdown",
   "metadata": {},
   "source": [
    "# 文件操作函数"
   ]
  },
  {
   "cell_type": "markdown",
   "metadata": {},
   "source": [
    "## seek() 用来改变文件指针的位置"
   ]
  },
  {
   "cell_type": "markdown",
   "metadata": {},
   "source": [
    "## 文件对象.seek(偏移量,起始位置)，起始位置0：文件开头、1：当前位置、2：文件结尾"
   ]
  },
  {
   "cell_type": "code",
   "execution_count": 39,
   "metadata": {},
   "outputs": [
    {
     "name": "stdout",
     "output_type": "stream",
     "text": [
      "aaa\n",
      "bbbbb\n",
      "ccccc\n",
      "ddddd\n",
      "eeeee\n"
     ]
    }
   ],
   "source": [
    "f = open('1.txt','r')\n",
    "\n",
    "# 偏移2位,起始位置是文件的开头\n",
    "f.seek(2，0)\n",
    "\n",
    "print(f.read())\n",
    "f.close()"
   ]
  },
  {
   "cell_type": "code",
   "execution_count": 43,
   "metadata": {},
   "outputs": [
    {
     "name": "stdout",
     "output_type": "stream",
     "text": [
      "bbbbb\n",
      "\n",
      "aaaaa\n",
      "\n"
     ]
    }
   ],
   "source": [
    "f = open('1.txt','r')\n",
    "# 读取第二行\n",
    "f.seek(6,0)\n",
    "print(f.readline())\n",
    "\n",
    "# 读取第一行\n",
    "f.seek(0,0)\n",
    "print(f.readline())\n",
    "f.close()"
   ]
  },
  {
   "cell_type": "markdown",
   "metadata": {},
   "source": [
    "# 文件的备份"
   ]
  },
  {
   "cell_type": "code",
   "execution_count": 46,
   "metadata": {},
   "outputs": [],
   "source": [
    "file = open('1.txt', 'r')\n",
    "file_tgt = open('1_c.txt','w')\n",
    "\n",
    "for line in file:\n",
    "    file_tgt.write(line)\n",
    "\n",
    "file.close()\n",
    "file_tgt.close()"
   ]
  },
  {
   "cell_type": "code",
   "execution_count": 51,
   "metadata": {},
   "outputs": [
    {
     "name": "stdout",
     "output_type": "stream",
     "text": [
      "备份的文件名：1.txt\n",
      "Backup complete\n"
     ]
    }
   ],
   "source": [
    "old_name = input(\"备份的文件名：\")\n",
    "index = old_name.rfind('.')\n",
    "\n",
    "new_name = old_name[:index] + \"_backup\" + old_name[index:]\n",
    "\n",
    "file = open(old_name, 'rb')\n",
    "file_b = open(new_name, 'wb')\n",
    "\n",
    "for line in file:\n",
    "    file_b.write(line)\n",
    "\n",
    "print(\"Backup complete\")\n",
    "\n",
    "file.close()\n",
    "file_b.close()"
   ]
  },
  {
   "cell_type": "markdown",
   "metadata": {},
   "source": [
    "## import os\n",
    "重命名\n",
    "os.rename()\n",
    "\n",
    "删除\n",
    "os.remove()"
   ]
  },
  {
   "cell_type": "markdown",
   "metadata": {},
   "source": [
    "# 文件夹相关操作"
   ]
  },
  {
   "cell_type": "markdown",
   "metadata": {},
   "source": [
    "## 创建文件夹、删除文件夹、获取当前目录、改变默认目录、获取目录列表"
   ]
  },
  {
   "cell_type": "code",
   "execution_count": 56,
   "metadata": {},
   "outputs": [],
   "source": [
    "os.mkdir(\"DATA_FOLDER\")"
   ]
  },
  {
   "cell_type": "code",
   "execution_count": 57,
   "metadata": {},
   "outputs": [],
   "source": [
    "os.rmdir(\"DATA_FOLDER\")"
   ]
  },
  {
   "cell_type": "code",
   "execution_count": 58,
   "metadata": {},
   "outputs": [
    {
     "data": {
      "text/plain": [
       "'C:\\\\Users\\\\79285\\\\111'"
      ]
     },
     "execution_count": 58,
     "metadata": {},
     "output_type": "execute_result"
    }
   ],
   "source": [
    "# 获取当前目录\n",
    "os.getcwd()"
   ]
  },
  {
   "cell_type": "code",
   "execution_count": 59,
   "metadata": {},
   "outputs": [
    {
     "data": {
      "text/plain": [
       "['.ipynb_checkpoints',\n",
       " '1.txt',\n",
       " 'data.txt',\n",
       " 'DAY3_HOMEWORK_EXTRA.ipynb',\n",
       " 'Day7_Homework.ipynb',\n",
       " 'Stupid.ipynb',\n",
       " 'Stupid_DAY3_DAYTIME.ipynb',\n",
       " 'STUPID_DAY3_HOMEWORK.ipynb',\n",
       " 'STUPID_DAY4.ipynb',\n",
       " 'STUPID_DAY4_DAYTIME.ipynb',\n",
       " 'STUPID_DAY4_HOMEWORK.ipynb',\n",
       " 'STUPID_DAY5_DAYTIME.ipynb',\n",
       " 'STUPID_DAY5_HOMEWORK.ipynb',\n",
       " 'STUPID_DAY6_DAYTIME.ipynb',\n",
       " 'STUPID_DAY6_HOMEWORK.ipynb',\n",
       " 'STUPID_DAY7_DAYTIME.ipynb',\n",
       " 'STUPID_DAY8_DAYTIME.ipynb',\n",
       " 'STUPID_FURY.ipynb',\n",
       " 'test.txt',\n",
       " 'Untitled.ipynb',\n",
       " 'Untitled1.ipynb',\n",
       " 'VGG13.ipynb']"
      ]
     },
     "execution_count": 59,
     "metadata": {},
     "output_type": "execute_result"
    }
   ],
   "source": [
    "# 目录列表\n",
    "os.listdir()"
   ]
  },
  {
   "cell_type": "markdown",
   "metadata": {},
   "source": [
    "# 批量修改文件名"
   ]
  },
  {
   "cell_type": "code",
   "execution_count": null,
   "metadata": {},
   "outputs": [],
   "source": [
    "import os\n",
    "\n",
    "file_list = os.listdir()\n",
    "print(flie_list)\n",
    "\n",
    "for i in file_list:\n",
    "    index = i.rfind(\".\")\n",
    "    if index>0:\n",
    "        new_name = \"Python\" + i\n",
    "        os.rename(i, new_name)\n",
    "        "
   ]
  }
 ],
 "metadata": {
  "kernelspec": {
   "display_name": "Python 3",
   "language": "python",
   "name": "python3"
  },
  "language_info": {
   "codemirror_mode": {
    "name": "ipython",
    "version": 3
   },
   "file_extension": ".py",
   "mimetype": "text/x-python",
   "name": "python",
   "nbconvert_exporter": "python",
   "pygments_lexer": "ipython3",
   "version": "3.7.4"
  }
 },
 "nbformat": 4,
 "nbformat_minor": 2
}
