{
 "cells": [
  {
   "cell_type": "markdown",
   "metadata": {},
   "source": [
    "# 函数说明文档"
   ]
  },
  {
   "cell_type": "markdown",
   "metadata": {},
   "source": [
    "# help(函数名) 查看函数的说明文档"
   ]
  },
  {
   "cell_type": "code",
   "execution_count": 1,
   "metadata": {},
   "outputs": [
    {
     "name": "stdout",
     "output_type": "stream",
     "text": [
      "Help on built-in function len in module builtins:\n",
      "\n",
      "len(obj, /)\n",
      "    Return the number of items in a container.\n",
      "\n"
     ]
    }
   ],
   "source": [
    "help(len)"
   ]
  },
  {
   "cell_type": "markdown",
   "metadata": {},
   "source": [
    "# 自定义函数的同时定义说明文档"
   ]
  },
  {
   "cell_type": "markdown",
   "metadata": {},
   "source": [
    "## 函数体内第一行的位置书写多行注释即为函数的说明文档"
   ]
  },
  {
   "cell_type": "code",
   "execution_count": 2,
   "metadata": {},
   "outputs": [
    {
     "name": "stdout",
     "output_type": "stream",
     "text": [
      "Help on function test in module __main__:\n",
      "\n",
      "test(num)\n",
      "    说明文档\n",
      "\n",
      "Help on function test in module __main__:\n",
      "\n",
      "test(num)\n",
      "    说明\n",
      "    \n",
      "    文档\n",
      "\n"
     ]
    }
   ],
   "source": [
    "def test(num):\n",
    "    \"\"\" 说明文档 \"\"\"\n",
    "    return num\n",
    "\n",
    "help(test)\n",
    "\n",
    "def test(num):\n",
    "    \"\"\" 说明\n",
    "    \n",
    "    文档 \"\"\"\n",
    "    return num\n",
    "\n",
    "help(test)"
   ]
  },
  {
   "cell_type": "markdown",
   "metadata": {},
   "source": [
    "# 函数说明文档的高级使用"
   ]
  },
  {
   "cell_type": "markdown",
   "metadata": {},
   "source": [
    "## 在pycharm中使用在\"\"\" \"\"\"中使用回车时会自动生成文档"
   ]
  },
  {
   "cell_type": "code",
   "execution_count": 3,
   "metadata": {},
   "outputs": [
    {
     "name": "stdout",
     "output_type": "stream",
     "text": [
      "Help on function sum_num1 in module __main__:\n",
      "\n",
      "sum_num1(a, b)\n",
      "    此处为函数的功能\n",
      "    :param a: 参数a的作用\n",
      "    :param b: 参数b的作用\n",
      "    :return: 返回值的意义\n",
      "\n"
     ]
    }
   ],
   "source": [
    "def sum_num1(a, b):\n",
    "    \"\"\"\n",
    "    此处为函数的功能\n",
    "    :param a: 参数a的作用\n",
    "    :param b: 参数b的作用\n",
    "    :return: 返回值的意义\n",
    "    \"\"\"\n",
    "    return a + b\n",
    "\n",
    "help(sum_num1)"
   ]
  },
  {
   "cell_type": "markdown",
   "metadata": {},
   "source": [
    "# 函数的嵌套 — 在定义一个函数时调用另一个函数"
   ]
  },
  {
   "cell_type": "code",
   "execution_count": 4,
   "metadata": {},
   "outputs": [
    {
     "name": "stdout",
     "output_type": "stream",
     "text": [
      "--- testA start ---\n",
      "--- testB start ---\n",
      "TEST---B\n",
      "--- testB end ---\n",
      "--- testA end ---\n"
     ]
    }
   ],
   "source": [
    "# 在A函数中嵌套调用B函数\n",
    "\n",
    "def testB():\n",
    "    print(\"--- testB start ---\")\n",
    "    print(\"TEST---B\")\n",
    "    print(\"--- testB end ---\")\n",
    "    \n",
    "def testA():\n",
    "    print(\"--- testA start ---\")\n",
    "    testB()\n",
    "    print(\"--- testA end ---\")\n",
    "    \n",
    "testA()"
   ]
  },
  {
   "cell_type": "markdown",
   "metadata": {},
   "source": [
    "## 示例-1"
   ]
  },
  {
   "cell_type": "code",
   "execution_count": 5,
   "metadata": {},
   "outputs": [
    {
     "name": "stdout",
     "output_type": "stream",
     "text": [
      "--------------------\n"
     ]
    }
   ],
   "source": [
    "# 输出一条横线\n",
    "\n",
    "def print_line():\n",
    "    print(\"-\" * 20)\n",
    "print_line()"
   ]
  },
  {
   "cell_type": "code",
   "execution_count": 6,
   "metadata": {},
   "outputs": [
    {
     "name": "stdout",
     "output_type": "stream",
     "text": [
      "--------------------\n",
      "--------------------\n",
      "--------------------\n",
      "--------------------\n",
      "--------------------\n",
      "--------------------\n"
     ]
    }
   ],
   "source": [
    "def prt_line(num):\n",
    "    for i in range(num+1):\n",
    "        #嵌套调用 print_line（）\n",
    "        print_line()\n",
    "prt_line(5)"
   ]
  },
  {
   "cell_type": "markdown",
   "metadata": {},
   "source": [
    "## 示例2"
   ]
  },
  {
   "cell_type": "markdown",
   "metadata": {},
   "source": [
    "## 求平均值"
   ]
  },
  {
   "cell_type": "code",
   "execution_count": 7,
   "metadata": {},
   "outputs": [
    {
     "data": {
      "text/plain": [
       "2.0"
      ]
     },
     "execution_count": 7,
     "metadata": {},
     "output_type": "execute_result"
    }
   ],
   "source": [
    "# 先求和\n",
    "def sum_num(a, b, c):\n",
    "    return(a + b + c)\n",
    "# 后求平均值\n",
    "def avg_sum(a, b, c):\n",
    "    sumResult = sum_num(a, b, c)\n",
    "    return(sumResult / 3)\n",
    "avg_sum(1,2,3)"
   ]
  },
  {
   "cell_type": "code",
   "execution_count": 8,
   "metadata": {},
   "outputs": [
    {
     "name": "stdout",
     "output_type": "stream",
     "text": [
      "You have slept for 4 seconds, time to work!\n"
     ]
    }
   ],
   "source": [
    "import random\n",
    "import time\n",
    "\n",
    "def rd_time():\n",
    "    random.seed(time.time())\n",
    "    return random.randint(1,9)\n",
    "\n",
    "def sleep_time():\n",
    "    t = rd_time()\n",
    "    time.sleep(t)\n",
    "    print(f\"You have slept for {t} seconds, time to work!\")\n",
    "\n",
    "sleep_time()"
   ]
  },
  {
   "cell_type": "markdown",
   "metadata": {},
   "source": [
    "# 函数变量的作用域"
   ]
  },
  {
   "cell_type": "markdown",
   "metadata": {},
   "source": [
    "## 变量生效的范围"
   ]
  },
  {
   "cell_type": "markdown",
   "metadata": {},
   "source": [
    "## 局部变量、全局变量"
   ]
  },
  {
   "cell_type": "markdown",
   "metadata": {},
   "source": [
    "## 局部变量：只在函数体内生效"
   ]
  },
  {
   "cell_type": "code",
   "execution_count": 9,
   "metadata": {},
   "outputs": [
    {
     "name": "stdout",
     "output_type": "stream",
     "text": [
      "100\n"
     ]
    },
    {
     "ename": "NameError",
     "evalue": "name 'a' is not defined",
     "output_type": "error",
     "traceback": [
      "\u001b[1;31m---------------------------------------------------------------------------\u001b[0m",
      "\u001b[1;31mNameError\u001b[0m                                 Traceback (most recent call last)",
      "\u001b[1;32m<ipython-input-9-a0d157a6433d>\u001b[0m in \u001b[0;36m<module>\u001b[1;34m\u001b[0m\n\u001b[0;32m      9\u001b[0m \u001b[1;31m# 尝试在函数外部访问函数内部的数据\u001b[0m\u001b[1;33m\u001b[0m\u001b[1;33m\u001b[0m\u001b[1;33m\u001b[0m\u001b[0m\n\u001b[0;32m     10\u001b[0m \u001b[1;31m# 会报错！！！\u001b[0m\u001b[1;33m\u001b[0m\u001b[1;33m\u001b[0m\u001b[1;33m\u001b[0m\u001b[0m\n\u001b[1;32m---> 11\u001b[1;33m \u001b[0mprint\u001b[0m\u001b[1;33m(\u001b[0m\u001b[0ma\u001b[0m\u001b[1;33m)\u001b[0m\u001b[1;33m\u001b[0m\u001b[1;33m\u001b[0m\u001b[0m\n\u001b[0m",
      "\u001b[1;31mNameError\u001b[0m: name 'a' is not defined"
     ]
    }
   ],
   "source": [
    "def testA():\n",
    "    # 定义局部变量 a\n",
    "    a = 100\n",
    "    \n",
    "    print(a)\n",
    "    \n",
    "testA()\n",
    "\n",
    "# 尝试在函数外部访问函数内部的数据\n",
    "# 会报错！！！\n",
    "print(a)"
   ]
  },
  {
   "cell_type": "markdown",
   "metadata": {},
   "source": [
    "## 全局变量：在函数范围内外都能使用的变量"
   ]
  },
  {
   "cell_type": "code",
   "execution_count": 1,
   "metadata": {},
   "outputs": [
    {
     "name": "stdout",
     "output_type": "stream",
     "text": [
      "100\n",
      "100\n"
     ]
    }
   ],
   "source": [
    "a = 100\n",
    "\n",
    "def testA():\n",
    "    print(a)\n",
    "def testB():\n",
    "    print(a)\n",
    "    \n",
    "testA()\n",
    "testB()"
   ]
  },
  {
   "cell_type": "code",
   "execution_count": 2,
   "metadata": {},
   "outputs": [
    {
     "name": "stdout",
     "output_type": "stream",
     "text": [
      "100\n",
      "200\n",
      "100\n"
     ]
    }
   ],
   "source": [
    "a = 100\n",
    "\n",
    "def testA():\n",
    "    print(a)\n",
    "    \n",
    "def testB():\n",
    "    # 此处的a不再是全局变量 a\n",
    "    a = 200\n",
    "    print(a)\n",
    "    \n",
    "testA()\n",
    "testB()\n",
    "# 验证\n",
    "print(a)"
   ]
  },
  {
   "cell_type": "markdown",
   "metadata": {},
   "source": [
    "## 在函数内部修改全局变量"
   ]
  },
  {
   "cell_type": "code",
   "execution_count": 3,
   "metadata": {},
   "outputs": [
    {
     "name": "stdout",
     "output_type": "stream",
     "text": [
      "100\n",
      "200\n",
      "200\n"
     ]
    }
   ],
   "source": [
    "a = 100\n",
    "\n",
    "def testA():\n",
    "    print(a)\n",
    "    \n",
    "def testB():\n",
    "    # 声明 a 为全局变量\n",
    "    global a \n",
    "    a = 200\n",
    "    print(a)\n",
    "    \n",
    "testA()\n",
    "testB()\n",
    "# 验证\n",
    "print(a)"
   ]
  },
  {
   "cell_type": "markdown",
   "metadata": {},
   "source": [
    "# 多函数的执行流程"
   ]
  },
  {
   "cell_type": "markdown",
   "metadata": {},
   "source": [
    "## 一个程序由多个函数组成，函数之间可能共用数据"
   ]
  },
  {
   "cell_type": "markdown",
   "metadata": {},
   "source": [
    "## 在调用之前修改了全局变量，会影响之后函数使用该全局变量"
   ]
  },
  {
   "cell_type": "code",
   "execution_count": 4,
   "metadata": {},
   "outputs": [
    {
     "name": "stdout",
     "output_type": "stream",
     "text": [
      "0\n",
      "100\n"
     ]
    }
   ],
   "source": [
    "glo_num = 0\n",
    "\n",
    "def test1():\n",
    "    global glo_num\n",
    "    glo_num = 100\n",
    "\n",
    "def test2():\n",
    "    print(glo_num)\n",
    "    \n",
    "print(glo_num)\n",
    "test1()\n",
    "test2()"
   ]
  },
  {
   "cell_type": "markdown",
   "metadata": {},
   "source": [
    "# 返回值作为参数传递"
   ]
  },
  {
   "cell_type": "code",
   "execution_count": 5,
   "metadata": {},
   "outputs": [
    {
     "name": "stdout",
     "output_type": "stream",
     "text": [
      "50\n"
     ]
    }
   ],
   "source": [
    "def test1():\n",
    "    return 50\n",
    "\n",
    "def test2(num):\n",
    "    print(num)\n",
    "    \n",
    "# 获取函数1的返回值\n",
    "result = test1()\n",
    "test2(result)"
   ]
  },
  {
   "cell_type": "code",
   "execution_count": 6,
   "metadata": {},
   "outputs": [
    {
     "name": "stdout",
     "output_type": "stream",
     "text": [
      "1 2 3 4 5 6 7 8 9 10 \n",
      "1 2 3 4 5 6 7 8 9 10 "
     ]
    }
   ],
   "source": [
    "def create_list():\n",
    "    return [i for i in range(1,11)]\n",
    "\n",
    "def print_list(li):\n",
    "    for i in li:\n",
    "        print(i, end = \" \")\n",
    "\n",
    "li = create_list()\n",
    "print_list(li)\n",
    "print()\n",
    "print_list(create_list())"
   ]
  },
  {
   "cell_type": "markdown",
   "metadata": {},
   "source": [
    "# 函数的返回值"
   ]
  },
  {
   "cell_type": "markdown",
   "metadata": {},
   "source": [
    "## 多返回值函数"
   ]
  },
  {
   "cell_type": "code",
   "execution_count": 7,
   "metadata": {},
   "outputs": [
    {
     "data": {
      "text/plain": [
       "6"
      ]
     },
     "execution_count": 7,
     "metadata": {},
     "output_type": "execute_result"
    }
   ],
   "source": [
    "def multi_return_function():\n",
    "    # 返回值是一个元组！！！\n",
    "    return 1, 2, 3\n",
    "\n",
    "def multi_input_function(a, b, c):\n",
    "    return a + b + c\n",
    "\n",
    "a, b, c = multi_return_function()\n",
    "multi_input_function(a, b, c)"
   ]
  },
  {
   "cell_type": "code",
   "execution_count": 8,
   "metadata": {},
   "outputs": [
    {
     "name": "stdout",
     "output_type": "stream",
     "text": [
      "[100, 200]\n"
     ]
    }
   ],
   "source": [
    "\"\"\"\n",
    "    返回列表测试\n",
    "\"\"\"\n",
    "def multi_return_function():\n",
    "    return [100, 200]\n",
    "\n",
    "res = multi_return_function()\n",
    "print(res)"
   ]
  },
  {
   "cell_type": "code",
   "execution_count": 9,
   "metadata": {},
   "outputs": [
    {
     "name": "stdout",
     "output_type": "stream",
     "text": [
      "{'name': 1, 'age': 2}\n"
     ]
    }
   ],
   "source": [
    "\"\"\"\n",
    "    返回字典测试\n",
    "\"\"\"\n",
    "def multi_return_function():\n",
    "    return {'name':1, 'age':2}\n",
    "\n",
    "res = multi_return_function()\n",
    "print(res)"
   ]
  },
  {
   "cell_type": "markdown",
   "metadata": {},
   "source": [
    "# 函数进阶"
   ]
  },
  {
   "cell_type": "markdown",
   "metadata": {},
   "source": [
    "## 函数的参数——位置参数"
   ]
  },
  {
   "cell_type": "markdown",
   "metadata": {},
   "source": [
    "## 根据函数定义时的参数位置来传递参数"
   ]
  },
  {
   "cell_type": "markdown",
   "metadata": {},
   "source": [
    "## 注意：传递参数时必须和定义参数的个数和顺序一致"
   ]
  },
  {
   "cell_type": "code",
   "execution_count": 10,
   "metadata": {},
   "outputs": [
    {
     "name": "stdout",
     "output_type": "stream",
     "text": [
      "Name:Tom, age:2, gender:male\n"
     ]
    }
   ],
   "source": [
    "def user_info(name, age, gender):\n",
    "    print(f\"Name:{name}, age:{age}, gender:{gender}\")\n",
    "user_info('Tom',2,'male')"
   ]
  },
  {
   "cell_type": "markdown",
   "metadata": {},
   "source": [
    "## 关键字参数"
   ]
  },
  {
   "cell_type": "markdown",
   "metadata": {},
   "source": [
    "## 通过 键=值 形式加以指定"
   ]
  },
  {
   "cell_type": "code",
   "execution_count": 11,
   "metadata": {},
   "outputs": [
    {
     "name": "stdout",
     "output_type": "stream",
     "text": [
      "Name:Tom, age:2, gender:male\n",
      "Name:Lily, age:2, gender:male\n"
     ]
    }
   ],
   "source": [
    "def user_info(name, age, gender):\n",
    "    print(f\"Name:{name}, age:{age}, gender:{gender}\")\n",
    "user_info('Tom',2,'male')\n",
    "user_info(age=2, gender='male', name=\"Lily\")"
   ]
  },
  {
   "cell_type": "markdown",
   "metadata": {},
   "source": [
    "## 位置参数和关键字参数混用时，位置参数必须在前，关键字参数之间的顺序无要求"
   ]
  },
  {
   "cell_type": "code",
   "execution_count": 12,
   "metadata": {},
   "outputs": [
    {
     "name": "stdout",
     "output_type": "stream",
     "text": [
      "Name:Lily, age:2, gender:female\n"
     ]
    },
    {
     "ename": "TypeError",
     "evalue": "user_info() got multiple values for argument 'name'",
     "output_type": "error",
     "traceback": [
      "\u001b[1;31m---------------------------------------------------------------------------\u001b[0m",
      "\u001b[1;31mTypeError\u001b[0m                                 Traceback (most recent call last)",
      "\u001b[1;32m<ipython-input-12-7d09efdd0567>\u001b[0m in \u001b[0;36m<module>\u001b[1;34m\u001b[0m\n\u001b[0;32m      7\u001b[0m \u001b[1;31m# 若传参时出现需要先定义的位置参数被排在后面使用关键字参数传入，会报错\u001b[0m\u001b[1;33m\u001b[0m\u001b[1;33m\u001b[0m\u001b[1;33m\u001b[0m\u001b[0m\n\u001b[0;32m      8\u001b[0m \u001b[1;31m# 会报变量被多次赋值的错误\u001b[0m\u001b[1;33m\u001b[0m\u001b[1;33m\u001b[0m\u001b[1;33m\u001b[0m\u001b[0m\n\u001b[1;32m----> 9\u001b[1;33m \u001b[0muser_info\u001b[0m\u001b[1;33m(\u001b[0m\u001b[1;34m'female'\u001b[0m\u001b[1;33m,\u001b[0m \u001b[0mage\u001b[0m \u001b[1;33m=\u001b[0m \u001b[1;36m2\u001b[0m\u001b[1;33m,\u001b[0m \u001b[0mname\u001b[0m\u001b[1;33m=\u001b[0m\u001b[1;34m\"Lily\"\u001b[0m\u001b[1;33m)\u001b[0m\u001b[1;33m\u001b[0m\u001b[1;33m\u001b[0m\u001b[0m\n\u001b[0m",
      "\u001b[1;31mTypeError\u001b[0m: user_info() got multiple values for argument 'name'"
     ]
    }
   ],
   "source": [
    "def user_info(name, age, gender):\n",
    "    print(f\"Name:{name}, age:{age}, gender:{gender}\")\n",
    "\n",
    "# 若混合使用，位置参数必须在前！\n",
    "user_info('Lily', age = 2, gender=\"female\")\n",
    "\n",
    "# 若传参时出现需要先定义的位置参数被排在后面使用关键字参数传入，会报错\n",
    "# 会报变量被多次赋值的错误\n",
    "user_info('female', age = 2, name=\"Lily\")"
   ]
  },
  {
   "cell_type": "markdown",
   "metadata": {},
   "source": [
    "## 缺省参数 = 默认参数"
   ]
  },
  {
   "cell_type": "markdown",
   "metadata": {},
   "source": [
    "## 所有的参数都必须写在默认参数之前，为默认参数传值之后就会修改默认参数设定的值"
   ]
  },
  {
   "cell_type": "code",
   "execution_count": 13,
   "metadata": {},
   "outputs": [
    {
     "name": "stdout",
     "output_type": "stream",
     "text": [
      "Name:Tom, age:20, gender:男\n",
      "Name:Rose, age:18, gender:女\n"
     ]
    }
   ],
   "source": [
    "# 在定义函数时，直接指定参数\n",
    "def user_info(name, age, gender = '男'):\n",
    "    print(f\"Name:{name}, age:{age}, gender:{gender}\")\n",
    "user_info('Tom', 20)\n",
    "user_info('Rose', 18, '女')"
   ]
  },
  {
   "cell_type": "markdown",
   "metadata": {},
   "source": [
    "## 不定长参数 是一个组包的过程"
   ]
  },
  {
   "cell_type": "markdown",
   "metadata": {},
   "source": [
    "## 不设定个数的参数"
   ]
  },
  {
   "cell_type": "markdown",
   "metadata": {},
   "source": [
    "## 包裹位置传递 传进的所有参数都会被args变量收集，它会根据传进参数的位置合并为⼀个元组(tuple)，args是元组类型"
   ]
  },
  {
   "cell_type": "code",
   "execution_count": 14,
   "metadata": {},
   "outputs": [
    {
     "name": "stdout",
     "output_type": "stream",
     "text": [
      "('Tom', 18, 20)\n",
      "male\n",
      "1\n",
      "('Tom', 18, 20)\n"
     ]
    }
   ],
   "source": [
    "def user_info(*args):\n",
    "    print(args)\n",
    "\n",
    "# 注意，传递的是一个元组\n",
    "user_info(\"Tom\", 18, 20)\n",
    "\n",
    "def user_info_x(gender, grade = 1,*args):\n",
    "    print(gender)\n",
    "    print(grade)\n",
    "    print(args)\n",
    "\n",
    "# 注意，传递的是一个元组\n",
    "user_info_x('male', 1, \"Tom\", 18, 20)"
   ]
  },
  {
   "cell_type": "markdown",
   "metadata": {},
   "source": [
    "## 包裹关键字传递"
   ]
  },
  {
   "cell_type": "code",
   "execution_count": 15,
   "metadata": {},
   "outputs": [
    {
     "name": "stdout",
     "output_type": "stream",
     "text": [
      "{'name': 'Tom', 'age': 18, 'id': 110}\n",
      "male\n",
      "Tom\n",
      "(18, 20)\n",
      "{'name': 'Tom', 'age': 18, 'id': 110}\n"
     ]
    }
   ],
   "source": [
    "def user_info(**kwargs):\n",
    "    print(kwargs)\n",
    "\n",
    "# 注意，传递的是一个字典\n",
    "# {'name':'Tom', 'age':18, 'id'=110}\n",
    "user_info(name='Tom', age=18, id=110)\n",
    "\n",
    "def user_info_xx(gender, grade = 1, *args, **kwargs):\n",
    "    print(gender)\n",
    "    print(grade)\n",
    "    print(args)\n",
    "    print(kwargs)\n",
    "\n",
    "# 注意，传递的是一个字典\n",
    "user_info_xx('male', \"Tom\", 18, 20, name='Tom', age=18, id=110)"
   ]
  },
  {
   "cell_type": "markdown",
   "metadata": {},
   "source": [
    "# 元组的拆包"
   ]
  },
  {
   "cell_type": "markdown",
   "metadata": {},
   "source": [
    "# 列表的拆包 跟 元组的拆包相同"
   ]
  },
  {
   "cell_type": "code",
   "execution_count": 16,
   "metadata": {},
   "outputs": [
    {
     "name": "stdout",
     "output_type": "stream",
     "text": [
      "(100, 200)\n",
      "100\n",
      "200\n"
     ]
    }
   ],
   "source": [
    "def return_num():\n",
    "    return 100, 200\n",
    "# 多变量返回时，时组包成元组返回\n",
    "print(return_num())\n",
    "\n",
    "# 拆包元组\n",
    "num1, num2 = return_num()\n",
    "print(num1)\n",
    "print(num2)"
   ]
  },
  {
   "cell_type": "markdown",
   "metadata": {},
   "source": [
    "# 字典的拆包"
   ]
  },
  {
   "cell_type": "code",
   "execution_count": 17,
   "metadata": {},
   "outputs": [
    {
     "name": "stdout",
     "output_type": "stream",
     "text": [
      "字典包：\n",
      "{'name': 'Tom', 'age': 18}\n",
      "\n",
      "拆包后的Key值\n",
      "name\n",
      "age\n",
      "\n",
      "通过Key值访问到的数据\n",
      "Tom\n",
      "18\n"
     ]
    }
   ],
   "source": [
    "dict1 = {'name':'Tom', 'age':18}\n",
    "print(\"字典包：\")\n",
    "print(dict1)\n",
    "print()\n",
    "\n",
    "# 通过拆包得到 key 值\n",
    "a, b = dict1\n",
    "print(\"拆包后的Key值\")\n",
    "print(a)\n",
    "print(b)\n",
    "print()\n",
    "\n",
    "# 通过 key 访问字典中 key 对应的值\n",
    "print(\"通过Key值访问到的数据\")\n",
    "print(dict1[a])\n",
    "print(dict1[b])"
   ]
  },
  {
   "cell_type": "markdown",
   "metadata": {},
   "source": [
    "# 交换变量的值"
   ]
  },
  {
   "cell_type": "markdown",
   "metadata": {},
   "source": [
    "#### 借助第三变量"
   ]
  },
  {
   "cell_type": "code",
   "execution_count": 18,
   "metadata": {},
   "outputs": [
    {
     "name": "stdout",
     "output_type": "stream",
     "text": [
      "0 1\n",
      "1 0\n"
     ]
    }
   ],
   "source": [
    "a = 0\n",
    "b = 1\n",
    "print(a, b)\n",
    "\n",
    "c = a\n",
    "a = b\n",
    "b = c\n",
    "\n",
    "print(a, b)"
   ]
  },
  {
   "cell_type": "markdown",
   "metadata": {},
   "source": [
    "#### 不使用中间变量"
   ]
  },
  {
   "cell_type": "code",
   "execution_count": 19,
   "metadata": {},
   "outputs": [
    {
     "name": "stdout",
     "output_type": "stream",
     "text": [
      "1 2\n",
      "2 1\n"
     ]
    }
   ],
   "source": [
    "a, b  = 1, 2\n",
    "print(a, b)\n",
    "\n",
    "a, b = b, a\n",
    "print(a, b)"
   ]
  },
  {
   "cell_type": "markdown",
   "metadata": {},
   "source": [
    "# 引用"
   ]
  },
  {
   "cell_type": "markdown",
   "metadata": {},
   "source": [
    "## 引用的作用 — 通过变量名访问内存中的值"
   ]
  },
  {
   "cell_type": "markdown",
   "metadata": {},
   "source": [
    "#### 在python中，值是靠引用来传递的"
   ]
  },
  {
   "cell_type": "code",
   "execution_count": 20,
   "metadata": {},
   "outputs": [
    {
     "name": "stdout",
     "output_type": "stream",
     "text": [
      "140730568685344\n",
      "140730568685344\n",
      "140730568685344\n",
      "140730568685344\n"
     ]
    }
   ],
   "source": [
    "# 检测ID值, 对于不可变类型的值，相同的值使用的是同一块内存空间\n",
    "# 对于不可变类型的值， 值改变时，会分配一个新内存地址\n",
    "\n",
    "a = 1\n",
    "b = a\n",
    "\n",
    "print(id(a))\n",
    "print(id(b))\n",
    "\n",
    "c = 1\n",
    "d = 1\n",
    "print(id(c))\n",
    "print(id(d))"
   ]
  },
  {
   "cell_type": "code",
   "execution_count": 21,
   "metadata": {},
   "outputs": [
    {
     "name": "stdout",
     "output_type": "stream",
     "text": [
      "1450179017600\n",
      "[11, 22, 33]\n",
      "1450179017600\n",
      "[11, 22, 33]\n"
     ]
    },
    {
     "ename": "NameError",
     "evalue": "name 'cc' is not defined",
     "output_type": "error",
     "traceback": [
      "\u001b[1;31m---------------------------------------------------------------------------\u001b[0m",
      "\u001b[1;31mNameError\u001b[0m                                 Traceback (most recent call last)",
      "\u001b[1;32m<ipython-input-21-98d5d4fc7bb8>\u001b[0m in \u001b[0;36m<module>\u001b[1;34m\u001b[0m\n\u001b[0;32m     11\u001b[0m \u001b[1;33m\u001b[0m\u001b[0m\n\u001b[0;32m     12\u001b[0m \u001b[0maa\u001b[0m\u001b[1;33m.\u001b[0m\u001b[0mappend\u001b[0m\u001b[1;33m(\u001b[0m\u001b[1;36m44\u001b[0m\u001b[1;33m)\u001b[0m\u001b[1;33m\u001b[0m\u001b[1;33m\u001b[0m\u001b[0m\n\u001b[1;32m---> 13\u001b[1;33m \u001b[0mcc\u001b[0m\u001b[1;33m.\u001b[0m\u001b[0mappend\u001b[0m\u001b[1;33m(\u001b[0m\u001b[1;36m55\u001b[0m\u001b[1;33m)\u001b[0m\u001b[1;33m\u001b[0m\u001b[1;33m\u001b[0m\u001b[0m\n\u001b[0m\u001b[0;32m     14\u001b[0m \u001b[1;33m\u001b[0m\u001b[0m\n\u001b[0;32m     15\u001b[0m \u001b[0mprint\u001b[0m\u001b[1;33m(\u001b[0m\u001b[0mid\u001b[0m\u001b[1;33m(\u001b[0m\u001b[0maa\u001b[0m\u001b[1;33m)\u001b[0m\u001b[1;33m)\u001b[0m\u001b[1;33m\u001b[0m\u001b[1;33m\u001b[0m\u001b[0m\n",
      "\u001b[1;31mNameError\u001b[0m: name 'cc' is not defined"
     ]
    }
   ],
   "source": [
    "# 对于可变数据类型，数据的传递依然是引用\n",
    "# 对于可变的数据类型，a 的值发生变化 b 的值也会发生变化\n",
    "# 对于可变数据类型，数据发生变动时，内存地址是不变的\n",
    "\n",
    "aa = [11, 22, 33]\n",
    "bb = aa\n",
    "print(id(aa))\n",
    "print(aa)\n",
    "print(id(bb))\n",
    "print(bb)\n",
    "\n",
    "aa.append(44)\n",
    "cc.append(55)\n",
    "\n",
    "print(id(aa))\n",
    "print(aa)\n",
    "print(id(bb))\n",
    "print(bb)"
   ]
  },
  {
   "cell_type": "markdown",
   "metadata": {},
   "source": [
    "## 引用可以当做实参（变量可以当实参）"
   ]
  },
  {
   "cell_type": "code",
   "execution_count": 22,
   "metadata": {},
   "outputs": [
    {
     "name": "stdout",
     "output_type": "stream",
     "text": [
      "100\n",
      "140730568688512\n",
      "200\n",
      "140730568691712\n"
     ]
    }
   ],
   "source": [
    "def test1(a):\n",
    "    print(a)\n",
    "    print(id(a))\n",
    "    \n",
    "    a += a\n",
    "    \n",
    "    print(a)\n",
    "    print(id(a))\n",
    "    \n",
    "b = 100\n",
    "test1(b)"
   ]
  },
  {
   "cell_type": "code",
   "execution_count": 23,
   "metadata": {},
   "outputs": [
    {
     "name": "stdout",
     "output_type": "stream",
     "text": [
      "[1, 2]\n",
      "1450178984128\n",
      "[1, 2, 1, 2]\n",
      "1450178984128\n"
     ]
    }
   ],
   "source": [
    "c = [1,2]\n",
    "test1(c)"
   ]
  },
  {
   "cell_type": "markdown",
   "metadata": {},
   "source": [
    "# 学员管理系统"
   ]
  },
  {
   "cell_type": "code",
   "execution_count": null,
   "metadata": {},
   "outputs": [
    {
     "name": "stdout",
     "output_type": "stream",
     "text": [
      "选择功能\n",
      "1. 添加学员\n",
      "2. 删除学员\n",
      "3. 修改学员\n",
      "4. 查询学员\n",
      "5. 显示所有学员\n",
      "6. 退出系统\n",
      "选择功能：\n",
      "请输入1-6之间的数字\n",
      "--------------------\n",
      "选择功能\n",
      "1. 添加学员\n",
      "2. 删除学员\n",
      "3. 修改学员\n",
      "4. 查询学员\n",
      "5. 显示所有学员\n",
      "6. 退出系统\n"
     ]
    }
   ],
   "source": [
    "import os\n",
    "\n",
    "def info_print():\n",
    "    \"\"\"显示菜单栏\"\"\"\n",
    "    print(\"选择功能\")\n",
    "    print(\"1. 添加学员\")\n",
    "    print(\"2. 删除学员\")\n",
    "    print(\"3. 修改学员\")\n",
    "    print(\"4. 查询学员\")\n",
    "    print(\"5. 显示所有学员\")\n",
    "    print(\"6. 退出系统\")\n",
    "\n",
    "\n",
    "def add_student():\n",
    "    \"\"\"\n",
    "    添加学生函数\n",
    "    学生不能重名\n",
    "    \"\"\"\n",
    "    print(\"-\" * 20)\n",
    "    print(\"-----录入学生信息-----\")\n",
    "    print(\"-\" * 20)\n",
    "    print()\n",
    "\n",
    "    new_id = input(\"输入学号:\")\n",
    "    if not new_id.isdigit():\n",
    "        print(\"ID 需要为数字！\")\n",
    "        return None\n",
    "\n",
    "    new_name = input(\"输入姓名:\")\n",
    "    if not new_name.isalpha():\n",
    "        print(\"姓名需要为字符！\")\n",
    "        return None\n",
    "\n",
    "    new_tel = input(\"输入手机号:\")\n",
    "    if not new_tel.isdigit():\n",
    "        print(\"联系方式需要为数字！\")\n",
    "        return None\n",
    "\n",
    "    global info\n",
    "\n",
    "    for i in info:\n",
    "        if new_name == i['name']:\n",
    "            print(\"用户存在\")\n",
    "            return\n",
    "\n",
    "    student_dict = {'id': new_id, 'name': new_name, 'tel': new_tel}\n",
    "    info.append(student_dict)\n",
    "    print(\"-----录入完成-----\")\n",
    "\n",
    "\n",
    "def del_student():\n",
    "    \"\"\" 删除学生信息\n",
    "    操作方式为接收学生姓名，存在就删除，不存在输出查无此人\n",
    "    \"\"\"\n",
    "    print(\"-\" * 20)\n",
    "    print(\"-----删除学生信息-----\")\n",
    "    print(\"-\" * 20)\n",
    "    print()\n",
    "\n",
    "    global info\n",
    "\n",
    "    if len(info) == 0:\n",
    "        print(\"暂无可删除的学生信息\")\n",
    "        return None\n",
    "\n",
    "    stu_name = input(\"输入需要删除的学员的姓名\")\n",
    "    \n",
    "    for i in info:\n",
    "        if stu_name == i['name']:\n",
    "            info.remove(i)\n",
    "            break\n",
    "    else:\n",
    "        print(\"查无此人！\")   \n",
    "\n",
    "#     check = False\n",
    "#     check_point = {}\n",
    "#     for i in info:\n",
    "#         if stu_name in i.values():\n",
    "#             check_point = info.index(i)\n",
    "#             check = True\n",
    "\n",
    "#     if check:\n",
    "#         info.remove(info[check_point])\n",
    "#         print(\"-----删除成功-----\")\n",
    "#     else:\n",
    "#         print(\"-----查无此人-----\")\n",
    "\n",
    "\n",
    "def modify_student():\n",
    "    \"\"\"\n",
    "    用于修改学生信息\n",
    "    输入学生姓名，存在即输出可修改选项\n",
    "    不存在输出查无此人\n",
    "    接收修改选项\n",
    "    不接收选项外的操作\n",
    "    \"\"\"\n",
    "    print(\"-\" * 20)\n",
    "    print(\"-----修改学生信息-----\")\n",
    "    print(\"-\" * 20)\n",
    "    print()\n",
    "\n",
    "    global info\n",
    "    name_li = []\n",
    "    for student in info:\n",
    "        name_li.append(student[\"name\"])\n",
    "    print(f\"现有同学：{name_li}\")\n",
    "\n",
    "    key_input = input(\"输入需要修改的同学的姓名：\")\n",
    "\n",
    "    if key_input not in name_li:\n",
    "        print(\"-----查无此人-----\")\n",
    "        return None\n",
    "    else:\n",
    "        # 该学生在info列表里的位置\n",
    "        index = name_li.index(key_input)\n",
    "\n",
    "    print(f\"可修改的内容有：{info[index].keys()}\")\n",
    "\n",
    "    while True:\n",
    "        input_key = input(\"选择操作，输入需要修改的对应键值或输入exit退出修改：\")\n",
    "\n",
    "        if input_key == \"name\":\n",
    "            new_name = input(\"输入新姓名：\")\n",
    "            for i in info:\n",
    "                if new_name == i['name']:\n",
    "                    print(\"-----此姓名已存在------\")\n",
    "                else:\n",
    "                    info[index][\"name\"] = new_name\n",
    "                    print(\"-----修改完成-----\")\n",
    "\n",
    "        elif input_key == \"id\":\n",
    "            new_id = input(\"输入新ID：\")\n",
    "            info[index][\"id\"] = new_id\n",
    "            print(\"-----修改完成-----\")\n",
    "\n",
    "        elif input_key == \"tel\":\n",
    "            new_tel = input(\"输入新联系方式：\")\n",
    "            info[index][\"tel\"] = new_tel\n",
    "            print(\"-----修改完成-----\")\n",
    "\n",
    "        elif input_key == \"exit\":\n",
    "            break\n",
    "\n",
    "        else:\n",
    "            print(\"-----操作有误,输入了错误的键值！-----\")\n",
    "\n",
    "\n",
    "def find_student():\n",
    "    \"\"\"\n",
    "    查找学生信息\n",
    "    若存在就输出相应学生的信息\n",
    "    若不存在输出查无此人\n",
    "    \"\"\"\n",
    "    print(\"-\" * 20)\n",
    "    print(\"-----查找学生信息-----\")\n",
    "    print(\"-\" * 20)\n",
    "    print()\n",
    "\n",
    "    stu_partial_info = input(\"输入需要查询的信息\")\n",
    "\n",
    "    global info\n",
    "    \n",
    "    for i in info:\n",
    "        if stu_partial_info in i.values():\n",
    "            print(f\"学号{i['id']}, 姓名{i['name']}, 联系方式{i['tel']}\")\n",
    "            break\n",
    "    else:\n",
    "        print(\"查无此人\")\n",
    "                  \n",
    "#     check = False\n",
    "#     check_point = 0\n",
    "#     for i in range(len(info)):\n",
    "#         if stu_partial_info in info[i].values():\n",
    "#             check = True\n",
    "#             check_point = i\n",
    "#     if check:\n",
    "#         print(info[check_point])\n",
    "#     else:\n",
    "#         print(\"-----查无此人-----\")\n",
    "\n",
    "\n",
    "def show_all():\n",
    "    \"\"\"显示当前所有学生信息\"\"\"\n",
    "    print(\"-\" * 23)\n",
    "    print(\"-----显示所有学生信息-----\")\n",
    "    print(\"-\" * 23)\n",
    "    print()\n",
    "\n",
    "    global info\n",
    "    print(\"学号\\t姓名\\t联系方式\")\n",
    "    for i in info:\n",
    "        print(f\"{i['id']}\\t{i['name']}\\t{i['tel']}\")\n",
    "\n",
    "\n",
    "info = []\n",
    "\n",
    "while True:\n",
    "    info_print()\n",
    "    user_input = input(\"选择功能：\")\n",
    "    if user_input.isdigit():\n",
    "        user_num = int(user_input)\n",
    "        if user_num == 1:\n",
    "            add_student()\n",
    "        elif user_num == 2:\n",
    "            del_student()\n",
    "        elif user_num == 3:\n",
    "            modify_student()\n",
    "        elif user_num == 4:\n",
    "            find_student()\n",
    "        elif user_num == 5:\n",
    "            show_all()\n",
    "        elif user_num == 6:\n",
    "            print(\"退出系统\")\n",
    "            exit_flag = input(\"确定要退出吗？ yes 退出，其余任意输入取消操作\")\n",
    "            if exit_flag == 'yes':\n",
    "                break\n",
    "            else:\n",
    "                print(\"未退出\")\n",
    "        else:\n",
    "            print(\"请输入1-6之间的数字！\")\n",
    "    else:\n",
    "        print(\"请输入1-6之间的数字\")\n",
    "    print(\"-\" * 20)\n",
    "    os.system('pause')\n"
   ]
  },
  {
   "cell_type": "markdown",
   "metadata": {},
   "source": [
    "# 😀😁😂🤣😃😄😅😆😉😊😋😎😍😘🥰😗😙😚☺🙂🤗🤩🤔🤨😐😑😶🙄😏😣😥😮🤐😯😪😫🥱😴😌😛😜😝🤤😒😓😔😕🙃🤑😲☹🙁😖😞😟😤😢😭😦😧😨😩🤯😬😰😱🥵🥶😳🤪😵🥴😠😡🤬😷🤒🤕🤢🤮🤧😇🥳🥺🤠🤡🤥🤫🤭🧐🤓😈👿👹👺💀☠👻👽👾🤖💩😺😸😹😻😼😽🙀😿😾🐱‍👤🐱‍🏍🐱‍💻🐱‍🐉🐱‍👓🐱‍🚀🙈🙉🙊🐵🐶🐺🐱🦁🐯🦒🦊🦝🐮🐷🐗🐭🐹🐰🐻🐨🐼🐸🦓🐴🦄🐔🐲🐽🐾🐒🦍🦧🦮🐕‍🦺🐩🐕🐈🐅🐆🐎🦌🦏🦛🐂🐃🐄🐖🐏🐑🐐🐪🐫🦙🦘🦥🦨🦡🐘🐁🐀🦔🐇🐿🦎🐊🐢🐍🐉🦕🦖🦦🦈🐬🐳🐋🐟🐠🐡🦐🦑🐙🦞🦀🐚🦆🐓🦃🦅🕊🦢🦜🦩🦚🦉🐦🐧🐥🐤🐣🦇🦋🐌🐛🦟🦗🐜🐝🐞🦂🕷🕸🦠🧞‍♀️🧞‍♂️🗣👤👥👁👀🦴🦷👅👄🧠🦾🦿👣🤺⛷"
   ]
  },
  {
   "cell_type": "code",
   "execution_count": null,
   "metadata": {},
   "outputs": [],
   "source": []
  },
  {
   "cell_type": "code",
   "execution_count": null,
   "metadata": {},
   "outputs": [],
   "source": []
  },
  {
   "cell_type": "code",
   "execution_count": null,
   "metadata": {},
   "outputs": [],
   "source": []
  }
 ],
 "metadata": {
  "kernelspec": {
   "display_name": "Python 3",
   "language": "python",
   "name": "python3"
  },
  "language_info": {
   "codemirror_mode": {
    "name": "ipython",
    "version": 3
   },
   "file_extension": ".py",
   "mimetype": "text/x-python",
   "name": "python",
   "nbconvert_exporter": "python",
   "pygments_lexer": "ipython3",
   "version": "3.8.3"
  },
  "toc": {
   "base_numbering": 1,
   "nav_menu": {},
   "number_sections": true,
   "sideBar": true,
   "skip_h1_title": false,
   "title_cell": "Table of Contents",
   "title_sidebar": "Contents",
   "toc_cell": false,
   "toc_position": {},
   "toc_section_display": true,
   "toc_window_display": false
  }
 },
 "nbformat": 4,
 "nbformat_minor": 2
}
