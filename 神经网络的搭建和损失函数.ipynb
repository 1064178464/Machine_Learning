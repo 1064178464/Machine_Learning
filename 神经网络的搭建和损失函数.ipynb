{
 "cells": [
  {
   "cell_type": "code",
   "execution_count": 1,
   "metadata": {},
   "outputs": [],
   "source": [
    "import os\n",
    "import warnings\n",
    "\n",
    "os.environ['TF_CPP_MIN_LOG_LEVEL'] = '3'\n",
    "warnings.filterwarnings(\"ignore\")\n",
    "\n",
    "import tensorflow as tf\n",
    "from tensorflow import keras\n",
    "from tensorflow.keras import Sequential\n",
    "from tensorflow.keras import layers\n",
    "from tensorflow.nn import leaky_relu, softmax\n",
    "\n",
    "import numpy as np\n",
    "import pandas as pd\n",
    "from sklearn.model_selection import train_test_split, GridSearchCV\n",
    "\n",
    "import matplotlib.pyplot as plt\n",
    "plt.rcParams['font.sans-serif'] = ['SimHei']  # 用来正常显示中文标签\n",
    "plt.rcParams['axes.unicode_minus'] = False  # 用来正常显示负号"
   ]
  },
  {
   "cell_type": "markdown",
   "metadata": {},
   "source": [
    "# 神经网络的搭建"
   ]
  },
  {
   "cell_type": "markdown",
   "metadata": {},
   "source": [
    "## Sequential"
   ]
  },
  {
   "cell_type": "code",
   "execution_count": 2,
   "metadata": {},
   "outputs": [],
   "source": [
    "model = Sequential(\n",
    "    [\n",
    "        layers.Dense(3, activation='relu', kernel_initializer = 'he_normal', name = 'layer_1', input_shape = (3,)),\n",
    "        layers.Dense(2, activation='relu', kernel_initializer = 'he_normal', name = 'layer_2'),\n",
    "        layers.Dense(2, activation='sigmoid', kernel_initializer = 'he_normal', name = 'layer_3'),\n",
    "        \n",
    "    ],\n",
    "    name = 'sequential'\n",
    ")"
   ]
  },
  {
   "cell_type": "code",
   "execution_count": 3,
   "metadata": {},
   "outputs": [
    {
     "name": "stdout",
     "output_type": "stream",
     "text": [
      "Model: \"sequential\"\n",
      "_________________________________________________________________\n",
      "Layer (type)                 Output Shape              Param #   \n",
      "=================================================================\n",
      "layer_1 (Dense)              (None, 3)                 12        \n",
      "_________________________________________________________________\n",
      "layer_2 (Dense)              (None, 2)                 8         \n",
      "_________________________________________________________________\n",
      "layer_3 (Dense)              (None, 2)                 6         \n",
      "=================================================================\n",
      "Total params: 26\n",
      "Trainable params: 26\n",
      "Non-trainable params: 0\n",
      "_________________________________________________________________\n"
     ]
    }
   ],
   "source": [
    "model.summary()"
   ]
  },
  {
   "cell_type": "markdown",
   "metadata": {},
   "source": [
    "## function API "
   ]
  },
  {
   "cell_type": "code",
   "execution_count": 4,
   "metadata": {},
   "outputs": [
    {
     "name": "stdout",
     "output_type": "stream",
     "text": [
      "Model: \"function_API_Model\"\n",
      "_________________________________________________________________\n",
      "Layer (type)                 Output Shape              Param #   \n",
      "=================================================================\n",
      "input (InputLayer)           [(None, 3)]               0         \n",
      "_________________________________________________________________\n",
      "layer1 (Dense)               (None, 3)                 12        \n",
      "_________________________________________________________________\n",
      "layer2 (Dense)               (None, 2)                 8         \n",
      "_________________________________________________________________\n",
      "layer3 (Dense)               (None, 2)                 6         \n",
      "=================================================================\n",
      "Total params: 26\n",
      "Trainable params: 26\n",
      "Non-trainable params: 0\n",
      "_________________________________________________________________\n"
     ]
    }
   ],
   "source": [
    "inputs = tf.keras.Input(shape=(3,), name='input')\n",
    "x = tf.keras.layers.Dense(3, activation='relu', kernel_initializer='he_normal', name='layer1')(inputs)\n",
    "x1 = tf.keras.layers.Dense(2, activation='relu', kernel_initializer='he_normal', name='layer2')(x)\n",
    "outputs = tf.keras.layers.Dense(2, activation='sigmoid', name='layer3')(x1)\n",
    "\n",
    "model = tf.keras.Model(inputs = inputs, outputs = outputs, name = 'function_API_Model')\n",
    "\n",
    "model.summary()"
   ]
  },
  {
   "cell_type": "markdown",
   "metadata": {},
   "source": [
    "## 类方法"
   ]
  },
  {
   "cell_type": "code",
   "execution_count": 8,
   "metadata": {},
   "outputs": [],
   "source": [
    "class MyModel(tf.keras.Model):\n",
    "    def __init__(self):\n",
    "        super(MyModel, self).__init__()\n",
    "        self.layer1 = layers.Dense(3, activation='relu', kernel_initializer = 'he_normal', name = 'layer_1', input_shape = (3,))\n",
    "        self.layer2 = layers.Dense(2, activation='relu', kernel_initializer = 'he_normal', name = 'layer_2')\n",
    "        self.layer3 = layers.Dense(2, activation='sigmoid', kernel_initializer = 'he_normal', name = 'layer_3')\n",
    "        \n",
    "    def call(self, inputs):\n",
    "        x = self.layer1(inputs)\n",
    "        x1 = self.layer2(x)\n",
    "        return self.layer3(x1)\n",
    "    \n",
    "model = MyModel()\n",
    "\n",
    "x = tf.ones((1,3))\n",
    "y = model(x)"
   ]
  },
  {
   "cell_type": "markdown",
   "metadata": {},
   "source": [
    "# 损失函数"
   ]
  },
  {
   "cell_type": "markdown",
   "metadata": {},
   "source": [
    "## 分类任务的损失函数"
   ]
  },
  {
   "cell_type": "markdown",
   "metadata": {},
   "source": [
    "### 多分类任务损失函数：交叉熵损失函数 (Softmax损失)"
   ]
  },
  {
   "cell_type": "code",
   "execution_count": 13,
   "metadata": {},
   "outputs": [
    {
     "data": {
      "text/plain": [
       "0.39925388"
      ]
     },
     "execution_count": 13,
     "metadata": {},
     "output_type": "execute_result"
    }
   ],
   "source": [
    "import tensorflow as tf\n",
    "\n",
    "y_true = [[0,1,0],[0,0,1]]\n",
    "y_pre = [[0.05,0.9,0.05],[0.3,0.2,0.5]]\n",
    "\n",
    "cce = tf.keras.losses.CategoricalCrossentropy()\n",
    "cce(y_true, y_pre).numpy()"
   ]
  },
  {
   "cell_type": "code",
   "execution_count": 15,
   "metadata": {},
   "outputs": [
    {
     "data": {
      "text/plain": [
       "0.105360545"
      ]
     },
     "execution_count": 15,
     "metadata": {},
     "output_type": "execute_result"
    }
   ],
   "source": [
    "y_true = [[0,1,0],[0,0,1]]\n",
    "y_pre = [[0.05,0.9,0.05],[0.05,0.05,0.9]]\n",
    "\n",
    "cce = tf.keras.losses.CategoricalCrossentropy()\n",
    "cce(y_true, y_pre).numpy()"
   ]
  },
  {
   "cell_type": "markdown",
   "metadata": {},
   "source": [
    "### 二分类任务损失函数：二项交叉熵损失函数"
   ]
  },
  {
   "cell_type": "code",
   "execution_count": 14,
   "metadata": {},
   "outputs": [
    {
     "data": {
      "text/plain": [
       "0.5108254"
      ]
     },
     "execution_count": 14,
     "metadata": {},
     "output_type": "execute_result"
    }
   ],
   "source": [
    "y_true = [[0],[1]]\n",
    "y_pre = [[0.4],[0.6]]\n",
    "\n",
    "bce = tf.keras.losses.BinaryCrossentropy()\n",
    "bce(y_true,y_pre).numpy()"
   ]
  },
  {
   "cell_type": "code",
   "execution_count": 17,
   "metadata": {},
   "outputs": [
    {
     "data": {
      "text/plain": [
       "0.0010003682"
      ]
     },
     "execution_count": 17,
     "metadata": {},
     "output_type": "execute_result"
    }
   ],
   "source": [
    "y_true = [[0],[1]]\n",
    "y_pre = [[0.001],[0.999]]\n",
    "\n",
    "bce = tf.keras.losses.BinaryCrossentropy()\n",
    "bce(y_true,y_pre).numpy()"
   ]
  },
  {
   "cell_type": "markdown",
   "metadata": {},
   "source": [
    "## 回归问题的损失 "
   ]
  },
  {
   "cell_type": "markdown",
   "metadata": {},
   "source": [
    "### MAE损失（L1 loss）"
   ]
  },
  {
   "cell_type": "code",
   "execution_count": 18,
   "metadata": {},
   "outputs": [],
   "source": [
    "import tensorflow as tf"
   ]
  },
  {
   "cell_type": "code",
   "execution_count": 26,
   "metadata": {},
   "outputs": [
    {
     "data": {
      "text/plain": [
       "1.0"
      ]
     },
     "execution_count": 26,
     "metadata": {},
     "output_type": "execute_result"
    }
   ],
   "source": [
    "y_true = [[1.],[0.]]\n",
    "y_pre = [[0.],[1.]]\n",
    "\n",
    "mae = tf.keras.losses.MeanAbsoluteError()\n",
    "mae(y_true,y_pre).numpy()"
   ]
  },
  {
   "cell_type": "code",
   "execution_count": 27,
   "metadata": {},
   "outputs": [
    {
     "data": {
      "text/plain": [
       "0.5"
      ]
     },
     "execution_count": 27,
     "metadata": {},
     "output_type": "execute_result"
    }
   ],
   "source": [
    "y_true = [[0.],[0.]]\n",
    "y_pre = [[1.],[0.]]\n",
    "\n",
    "mae = tf.keras.losses.MeanAbsoluteError()\n",
    "mae(y_true,y_pre).numpy()"
   ]
  },
  {
   "cell_type": "code",
   "execution_count": 28,
   "metadata": {},
   "outputs": [
    {
     "data": {
      "text/plain": [
       "0.0"
      ]
     },
     "execution_count": 28,
     "metadata": {},
     "output_type": "execute_result"
    }
   ],
   "source": [
    "y_true = [[0.],[0.]]\n",
    "y_pre = [[0.],[0.]]\n",
    "\n",
    "mae = tf.keras.losses.MeanAbsoluteError()\n",
    "mae(y_true,y_pre).numpy()"
   ]
  },
  {
   "cell_type": "markdown",
   "metadata": {},
   "source": [
    "### MSE损失（L2 loss）（欧氏距离）"
   ]
  },
  {
   "cell_type": "code",
   "execution_count": 32,
   "metadata": {},
   "outputs": [
    {
     "data": {
      "text/plain": [
       "1.0"
      ]
     },
     "execution_count": 32,
     "metadata": {},
     "output_type": "execute_result"
    }
   ],
   "source": [
    "y_true = [[1.],[0.]]\n",
    "y_pre = [[0.],[1.]]\n",
    "\n",
    "mae = tf.keras.losses.MeanSquaredError()\n",
    "mae(y_true,y_pre).numpy()"
   ]
  },
  {
   "cell_type": "code",
   "execution_count": 33,
   "metadata": {},
   "outputs": [
    {
     "data": {
      "text/plain": [
       "0.5"
      ]
     },
     "execution_count": 33,
     "metadata": {},
     "output_type": "execute_result"
    }
   ],
   "source": [
    "y_true = [[0.],[0.]]\n",
    "y_pre = [[1.],[0.]]\n",
    "\n",
    "mae = tf.keras.losses.MeanSquaredError()\n",
    "mae(y_true,y_pre).numpy()"
   ]
  },
  {
   "cell_type": "code",
   "execution_count": 34,
   "metadata": {},
   "outputs": [
    {
     "data": {
      "text/plain": [
       "0.0"
      ]
     },
     "execution_count": 34,
     "metadata": {},
     "output_type": "execute_result"
    }
   ],
   "source": [
    "y_true = [[0.],[0.]]\n",
    "y_pre = [[0.],[0.]]\n",
    "\n",
    "mae = tf.keras.losses.MeanSquaredError()\n",
    "mae(y_true,y_pre).numpy()"
   ]
  },
  {
   "cell_type": "markdown",
   "metadata": {},
   "source": [
    "### Smooth L1"
   ]
  },
  {
   "cell_type": "code",
   "execution_count": 35,
   "metadata": {},
   "outputs": [
    {
     "data": {
      "text/plain": [
       "0.5"
      ]
     },
     "execution_count": 35,
     "metadata": {},
     "output_type": "execute_result"
    }
   ],
   "source": [
    "y_true = [[1.],[0.]]\n",
    "y_pre = [[0.],[1.]]\n",
    "\n",
    "smooth = tf.keras.losses.Huber()\n",
    "smooth(y_true,y_pre).numpy()"
   ]
  },
  {
   "cell_type": "code",
   "execution_count": 36,
   "metadata": {},
   "outputs": [
    {
     "data": {
      "text/plain": [
       "0.25"
      ]
     },
     "execution_count": 36,
     "metadata": {},
     "output_type": "execute_result"
    }
   ],
   "source": [
    "y_true = [[0.],[0.]]\n",
    "y_pre = [[1.],[0.]]\n",
    "\n",
    "smooth = tf.keras.losses.Huber()\n",
    "smooth(y_true,y_pre).numpy()"
   ]
  },
  {
   "cell_type": "code",
   "execution_count": 37,
   "metadata": {},
   "outputs": [
    {
     "data": {
      "text/plain": [
       "0.0"
      ]
     },
     "execution_count": 37,
     "metadata": {},
     "output_type": "execute_result"
    }
   ],
   "source": [
    "y_true = [[0.],[0.]]\n",
    "y_pre = [[0.],[0.]]\n",
    "\n",
    "smooth = tf.keras.losses.Huber()\n",
    "smooth(y_true,y_pre).numpy()"
   ]
  },
  {
   "cell_type": "markdown",
   "metadata": {},
   "source": []
  }
 ],
 "metadata": {
  "kernelspec": {
   "display_name": "Python 3",
   "language": "python",
   "name": "python3"
  },
  "language_info": {
   "codemirror_mode": {
    "name": "ipython",
    "version": 3
   },
   "file_extension": ".py",
   "mimetype": "text/x-python",
   "name": "python",
   "nbconvert_exporter": "python",
   "pygments_lexer": "ipython3",
   "version": "3.8.5"
  },
  "toc": {
   "base_numbering": 1,
   "nav_menu": {},
   "number_sections": true,
   "sideBar": true,
   "skip_h1_title": false,
   "title_cell": "Table of Contents",
   "title_sidebar": "Contents",
   "toc_cell": false,
   "toc_position": {},
   "toc_section_display": true,
   "toc_window_display": true
  }
 },
 "nbformat": 4,
 "nbformat_minor": 4
}
